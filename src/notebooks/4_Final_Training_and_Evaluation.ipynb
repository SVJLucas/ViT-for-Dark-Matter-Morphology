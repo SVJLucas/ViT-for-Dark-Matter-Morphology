{
  "nbformat": 4,
  "nbformat_minor": 0,
  "metadata": {
    "colab": {
      "provenance": [],
      "collapsed_sections": [
        "6vg64yBbP628",
        "J572BAeMSxSu"
      ]
    },
    "kernelspec": {
      "name": "python3",
      "display_name": "Python 3"
    },
    "language_info": {
      "name": "python"
    },
    "accelerator": "GPU",
    "gpuClass": "premium"
  },
  "cells": [
    {
      "cell_type": "markdown",
      "source": [
        "# ViTSD Model\n",
        "\n",
        "Now that we have an optimized model, we can train it with the full data and perform the last test."
      ],
      "metadata": {
        "id": "jJKoGxiOnbGi"
      }
    },
    {
      "cell_type": "markdown",
      "source": [
        "# Importing libraries"
      ],
      "metadata": {
        "id": "kr433j6Zn-Xh"
      }
    },
    {
      "cell_type": "code",
      "source": [
        "import os\n",
        "import cv2\n",
        "import math\n",
        "import torch\n",
        "import numpy as np\n",
        "from os import path\n",
        "import pandas as pd\n",
        "import torch.nn as nn\n",
        "from torch import Tensor\n",
        "from typing import Tuple, List\n",
        "import matplotlib.pyplot as plt\n",
        "from sklearn.metrics import roc_auc_score, roc_curve, accuracy_score\n",
        "import torchvision.transforms as transforms\n",
        "from torch.utils.data import TensorDataset, DataLoader"
      ],
      "metadata": {
        "id": "Mn01bevJE5tP"
      },
      "execution_count": null,
      "outputs": []
    },
    {
      "cell_type": "markdown",
      "source": [
        "# Defining the Model"
      ],
      "metadata": {
        "id": "6vg64yBbP628"
      }
    },
    {
      "cell_type": "markdown",
      "source": [
        "## Defining the Flatten Layer:"
      ],
      "metadata": {
        "id": "sOK-JEAKEhhV"
      }
    },
    {
      "cell_type": "code",
      "source": [
        "class Flatten(nn.Module):\n",
        "\n",
        "    def __init__(self, num_neurons_flatten: int):\n",
        "      \n",
        "        \"\"\"\n",
        "        \n",
        "        Constructor for the Flatten module.\n",
        "        \n",
        "        Module that flattens the input tensor into a 2D tensor.\n",
        "\n",
        "        Args:\n",
        "        - num_neurons_flatten (int): number of neurons to flatten the input tensor to\n",
        "\n",
        "        Attributes:\n",
        "        - num_neurons_flatten (int): number of neurons to flatten the input tensor to\n",
        "        \n",
        "        \"\"\"\n",
        "        super(Flatten, self).__init__()\n",
        "        self.num_neurons_flatten = num_neurons_flatten\n",
        "\n",
        "    def forward(self, x: Tensor) -> Tensor:\n",
        "      \n",
        "        \"\"\"\n",
        "        \n",
        "        Forward pass of the Flatten module.\n",
        "        Args:\n",
        "        - x (Tensor): input tensor\n",
        "\n",
        "        Returns:\n",
        "        - out (Tensor): flattened tensor\n",
        "        \n",
        "        \"\"\"\n",
        "        out = x.contiguous().view(-1, self.num_neurons_flatten)\n",
        "        return out"
      ],
      "metadata": {
        "id": "avTYEex1EncA"
      },
      "execution_count": null,
      "outputs": []
    },
    {
      "cell_type": "markdown",
      "source": [
        "## Defining the FeedFoward Layer:"
      ],
      "metadata": {
        "id": "Egx2A_OWEtcK"
      }
    },
    {
      "cell_type": "code",
      "source": [
        "class FeedForward(nn.Module):\n",
        "\n",
        "  def __init__(self,\n",
        "               in_features: int,\n",
        "               out_features: int,\n",
        "               activation_function: nn.Module,\n",
        "               num_hidden_neurons: int,\n",
        "               num_hidden_layers: int,\n",
        "               task_type: str,\n",
        "               dropout: float = 0.1,):\n",
        "    \"\"\"\n",
        "      \n",
        "    Initializes a FeedForward neural network.\n",
        "    The FeedForward class is a neural network module in PyTorch that represents a multi-layer\n",
        "    feedforward neural network. The class takes as input the number of input features, output\n",
        "    features, activation function, number of hidden neurons, number of hidden layers, and\n",
        "    dropout rate. It initializes a list of PyTorch modules that defines the layers of the neural\n",
        "    network, with a linear layer, activation function, and dropout layer for the first layer,\n",
        "    and a sequence of linear, activation, and dropout layers for the subsequent hidden layers.\n",
        "    The final layer is a linear layer followed by an activation function choosen by the task_type\n",
        "    argument (Identity function if task_type='regression', Sigmoid if task_type='binary_classification'\n",
        "    or Softmax if task_type='multi_classification'). The forward method of the class takes an input\n",
        "    tensor and applies each layer in the list of PyTorch modules in sequence to produce an output\n",
        "    tensor, which represents the output of the feedforward neural network.\n",
        "\n",
        "    Args:\n",
        "      -in_features (int): number of input features.\n",
        "      -out_features (int): number of output features.\n",
        "      -activation_function (nn.Module): activation function to be used in hidden layers.\n",
        "      -final_activation_function (nn.Module): activation function to be used in final layer (depends on the task).\n",
        "      -num_hidden_neurons (int): number of neurons in each hidden layer.\n",
        "      -num_hidden_layers (int): number of hidden layers in the network.\n",
        "      -task_type (str): Task to be solved by the neural network. Must be one of: 'regression', 'binary_classification' or 'multi_classification'.\n",
        "      -dropout (float, optional): dropout probability. Defaults to 0.1.\n",
        "      \n",
        "    Attributes:\n",
        "      -feedforward (nn.ModuleList): List with each layer of the neural network.\n",
        "      \n",
        "    \"\"\"\n",
        "      \n",
        "    super(FeedForward,self).__init__()\n",
        "    self.feedforward = nn.ModuleList()\n",
        "\n",
        "    # add input layer\n",
        "    self.feedforward.append(nn.Linear(in_features,num_hidden_neurons))\n",
        "    self.feedforward.append(activation_function())\n",
        "    self.feedforward.append(nn.Dropout(dropout))\n",
        "\n",
        "    # add hidden layers\n",
        "    for _ in range(num_hidden_layers):\n",
        "      self.feedforward.append(nn.Linear(num_hidden_neurons,num_hidden_neurons))\n",
        "      self.feedforward.append(activation_function())\n",
        "      self.feedforward.append(nn.Dropout(dropout))\n",
        "\n",
        "    if task_type=='regression':\n",
        "\n",
        "      self.final_activation_function = nn.Identity()\n",
        "\n",
        "    elif task_type=='binary_classification':\n",
        "\n",
        "      self.final_activation_function = nn.Sigmoid()\n",
        "\n",
        "      if out_features != 1:\n",
        "        raise ValueError(\"task_type='binary_classification' only supports 1 neuron on the end of the neural network (out_features = 1). If you want to use more than one neuron, use 'multi_classification' instead.\")\n",
        "\n",
        "    elif task_type=='multi_classification':\n",
        "\n",
        "      self.final_activation_function = nn.Softmax(dim=1)\n",
        "\n",
        "    else:\n",
        "      raise ValueError(\"task_type must be either of 'regression','binary_classification' or 'multi_classification'.\")\n",
        "\n",
        "    # add output layer\n",
        "    self.feedforward.append(nn.Linear(num_hidden_neurons,out_features))\n",
        "    self.feedforward.append(self.final_activation_function)\n",
        "\n",
        "  def forward(self,x: Tensor)->Tensor:\n",
        "    \n",
        "    \"\"\"\n",
        "    \n",
        "    Computes the forward pass of the feedforward neural network.\n",
        "    Args:\n",
        "       x (Tensor): input tensor of shape [batch_size, in_features]\n",
        "    Returns:\n",
        "       Tensor: output tensor of shape [batch_size, out_features]\n",
        "       \n",
        "    \"\"\"\n",
        "    \n",
        "    for layer in self.feedforward:\n",
        "      x = layer(x)\n",
        "    return x"
      ],
      "metadata": {
        "id": "0hJkT40rEyj3"
      },
      "execution_count": null,
      "outputs": []
    },
    {
      "cell_type": "markdown",
      "source": [
        "## Defining the ShiftedPatchTokenization Layer"
      ],
      "metadata": {
        "id": "yGiljRE2EyKP"
      }
    },
    {
      "cell_type": "code",
      "execution_count": null,
      "metadata": {
        "id": "wEIyWZKX_8R6"
      },
      "outputs": [],
      "source": [
        "class ShiftedPatchTokenization(nn.Module):\n",
        "\n",
        "    \"\"\"\n",
        "\n",
        "    Shifted Patch Tokenization module for creating image patches \n",
        "    with positional encodings for use in transformers.\n",
        "\n",
        "    \"\"\"\n",
        "\n",
        "    def __init__(self, image_size, patch_size, embed_dim, in_channels):\n",
        "\n",
        "        \"\"\"\n",
        "\n",
        "        Initializes the ShiftedPatchTokenization module.\n",
        "        \n",
        "        Args:\n",
        "            image_size (int or tuple): The size of the input image. If an integer is given, the image is assumed to have the same width and height.\n",
        "            patch_size (int or tuple): The size of each patch. If an integer is given, the patch is assumed to have the same width and height.\n",
        "            embed_dim (int): The dimension of the output embedding.\n",
        "            in_channels (int): The number of channels in the input image.\n",
        "\n",
        "        \"\"\"\n",
        "\n",
        "        super(ShiftedPatchTokenization, self).__init__()\n",
        "\n",
        "        # If image_size or patch_size is an integer, convert it to a tuple with equal width and height\n",
        "        if type(image_size) == int:\n",
        "            image_size = (image_size, image_size)\n",
        "        if type(patch_size) == int:\n",
        "            patch_size = (patch_size, patch_size)\n",
        "\n",
        "        self.embed_dim = embed_dim\n",
        "        self.image_width, self.image_height = image_size\n",
        "        self.patch_width, self.patch_height = patch_size\n",
        "\n",
        "        # Check if the image dimensions are divisible by the patch dimensions\n",
        "        if self.image_width % self.patch_width != 0 or self.image_height % self.patch_height != 0:\n",
        "            raise ValueError(\"The image's width must be divisible by the patche's width and the image's height, by the patch's height\")\n",
        "\n",
        "        # Calculate the number of patches\n",
        "        self.num_patches = int((self.image_width // self.patch_width) * (self.image_height // self.patch_height))\n",
        "\n",
        "        # Set the translation amounts\n",
        "        self.delta_x = self.patch_width // 2\n",
        "        self.delta_y = self.patch_height // 2\n",
        "\n",
        "        # Set the total number of channels for the output tensor\n",
        "        self.num_transformations = 4\n",
        "        self.total_channels = in_channels * (self.num_transformations + 1)\n",
        "\n",
        "        # Define the projection layer\n",
        "        self.projection = nn.Conv2d(in_channels=self.total_channels,\n",
        "                                    out_channels=self.embed_dim,\n",
        "                                    kernel_size=(self.patch_width, self.patch_height),\n",
        "                                    stride=(self.patch_width, self.patch_height))\n",
        "\n",
        "        # Define the layer normalization layer\n",
        "        self.layer_norm = nn.LayerNorm(self.embed_dim)\n",
        "\n",
        "        # Define the CLS token\n",
        "        self.cls_token = nn.Parameter(torch.zeros((1, 1, self.embed_dim)))\n",
        "\n",
        "        # Define the positional encoding\n",
        "        self.positional_encoding = nn.Parameter(torch.zeros((1, 1 + self.num_patches, self.embed_dim)))\n",
        "\n",
        "    def translate_image(self, image: Tensor, delta_x: int, delta_y: int, device: torch.device):\n",
        "\n",
        "        \"\"\"\n",
        "\n",
        "        Translates an image by a given amount.\n",
        "        \n",
        "        Args:\n",
        "            image (torch.Tensor): The input image.\n",
        "            delta_x (int): The amount to translate the image along the x-axis.\n",
        "            delta_y (int): The amount to translate the image along the y-axis.\n",
        "        \n",
        "        Returns:\n",
        "            The translated image.\n",
        "\n",
        "        \"\"\"\n",
        "\n",
        "        translated_image = transforms.functional.affine(image, angle=0, translate=(delta_x, delta_y), fill=0, scale=1, shear=0)\n",
        "        translated_image = translated_image.to(device)\n",
        "        return translated_image\n",
        "\n",
        "    def get_num_patches(self):\n",
        "\n",
        "        \"\"\"\n",
        "\n",
        "        Returns the number of patches.\n",
        "        \n",
        "        Returns:\n",
        "            The number of patches.\n",
        "\n",
        "        \"\"\"\n",
        "\n",
        "        return self.num_patches\n",
        "\n",
        "    def forward(self, image: Tensor, device: torch.device) -> Tensor:\n",
        "\n",
        "        \"\"\"\n",
        "\n",
        "        Forward pass of the ShiftedPatchTokenization module.\n",
        "\n",
        "        Args:\n",
        "        - image (torch.Tensor): a tensor representing an image, of size (batch_size, in_channels, image_height, image_width)\n",
        "\n",
        "        Returns:\n",
        "        - patches (torch.Tensor): a tensor of tokenized image patches, of size (batch_size, num_patches+1, embed_dim)\n",
        "\n",
        "        \"\"\"\n",
        "\n",
        "        batch_size = image.size(0)\n",
        "        \n",
        "\n",
        "        # generate shifted versions of the image\n",
        "        shift_left_up = self.translate_image(image, -self.delta_x, -self.delta_y,device)\n",
        "        shift_right_up = self.translate_image(image, self.delta_x, -self.delta_y,device)\n",
        "        shift_left_down = self.translate_image(image, -self.delta_x, self.delta_y,device)\n",
        "        shift_right_down = self.translate_image(image, self.delta_x, self.delta_y,device)\n",
        "\n",
        "        # concatenate the original image with its shifted versions\n",
        "        concatenated_images = torch.cat((image, shift_left_up, shift_right_up, shift_left_down, shift_right_down), dim=1)\n",
        "\n",
        "        # project the concatenated image onto a lower-dimensional embedding\n",
        "        projected_patches = self.projection(concatenated_images)\n",
        "        patches = projected_patches.flatten(2)\n",
        "        patches = patches.transpose(1, 2)\n",
        "\n",
        "        patches.to(device)\n",
        "\n",
        "        # apply layer normalization to the patches\n",
        "        patches = self.layer_norm(patches)\n",
        "\n",
        "        # append a learnable \"class token\" to the beginning of the patch sequence\n",
        "        cls = self.cls_token.expand(batch_size, -1, -1)\n",
        "        patches = torch.cat((cls, patches), dim=1)\n",
        "\n",
        "        patches.to(device)\n",
        "\n",
        "        # add learnable positional encodings to the patches\n",
        "        patches = patches + self.positional_encoding\n",
        "\n",
        "        return patches"
      ]
    },
    {
      "cell_type": "markdown",
      "source": [
        "## Defining the MultiLocallySelfAttention Layer"
      ],
      "metadata": {
        "id": "HXJ6eTGlHDHU"
      }
    },
    {
      "cell_type": "code",
      "source": [
        "class MultiLocallySelfAttention(nn.Module):\n",
        "\n",
        "    def __init__(self, embed_dim: int, num_heads: int, num_patches: int, device: torch.device, dropout: float = 0.1):\n",
        "\n",
        "        \"\"\"\n",
        "\n",
        "        Initializes a MultiLocallySelfAttention layer.\n",
        "\n",
        "        Args:\n",
        "            embed_dim (int): the embedding dimensionality\n",
        "            num_heads (int): the number of attention heads\n",
        "            num_patches (int): the number of image patches\n",
        "            device (torch.device): the device to run the model on\n",
        "            dropout (float): the dropout rate\n",
        "\n",
        "        \"\"\"\n",
        "        \n",
        "        super().__init__()\n",
        "\n",
        "        # Store layer parameters\n",
        "        self.embed_dim = embed_dim\n",
        "        self.num_heads = num_heads\n",
        "        self.num_patches = num_patches\n",
        "        self.dropout = dropout\n",
        "\n",
        "        # Initialize attention mask (a lower triangular matrix with True values)\n",
        "        self.attn_mask = torch.eye(1 + self.num_patches, 1 + self.num_patches, dtype=torch.bool, requires_grad=False)\n",
        "        self.attn_mask = self.attn_mask.to(device)\n",
        "\n",
        "        # Initialize multi-head attention layer\n",
        "        self.mha = nn.MultiheadAttention(embed_dim, num_heads, dropout, batch_first=True)\n",
        "\n",
        "        # Initialize temperature parameter (a scalar used to divide the queries)\n",
        "        self.temperature = nn.Parameter(torch.ones(1))\n",
        "\n",
        "    def forward(self, x: Tensor, device: torch.device) -> Tensor:\n",
        "\n",
        "        \"\"\"\n",
        "\n",
        "        Performs forward pass through the MultiLocallySelfAttention layer.\n",
        "\n",
        "        Args:\n",
        "            x (Tensor): input tensor\n",
        "            device (torch.device): the device to run the model on\n",
        "\n",
        "        Returns:\n",
        "            output tensor (Tensor)\n",
        "\n",
        "        \"\"\"\n",
        "        # Prepare key, query, and value tensors\n",
        "        key = x.to(device)\n",
        "        query = (x / self.temperature).to(device)\n",
        "        value = x.to(device)\n",
        "\n",
        "        # Apply multi-head attention\n",
        "        x, _ = self.mha(query, key, value, attn_mask=self.attn_mask)\n",
        "\n",
        "        return x\n",
        "\n",
        "\n"
      ],
      "metadata": {
        "id": "X4ERPxISG2wI"
      },
      "execution_count": null,
      "outputs": []
    },
    {
      "cell_type": "markdown",
      "source": [
        "## Defining the TransformerLSABlock Layer"
      ],
      "metadata": {
        "id": "miaPP4kJHTQK"
      }
    },
    {
      "cell_type": "code",
      "source": [
        "class TransformerLSABlock(nn.Module):\n",
        "\n",
        "    def __init__(self,\n",
        "                 embed_dim: int,\n",
        "                 num_heads: int,\n",
        "                 num_patches: int,\n",
        "                 num_hidden_neurons: int,\n",
        "                 activation_function: nn.Module,\n",
        "                 device: torch.device,\n",
        "                 dropout: float = 0.1):\n",
        "        \"\"\"\n",
        "\n",
        "        Initializes a TransformerLSABlock layer.\n",
        "        \n",
        "        Args:\n",
        "        - embed_dim: the embedding dimensionality\n",
        "        - num_heads: the number of attention heads\n",
        "        - num_patches: the number of image patches\n",
        "        - num_hidden_neurons: the number of neurons in the hidden layer of the feedforward network\n",
        "        - activation_function: the activation function used in the feedforward network\n",
        "        - device: the device to store the tensors on\n",
        "        - dropout: the dropout rate\n",
        "        \n",
        "        \"\"\"\n",
        "\n",
        "        super().__init__()\n",
        "\n",
        "        # initialize the multi-locally self-attention layer\n",
        "        self.mlsa = MultiLocallySelfAttention(embed_dim, num_heads, num_patches, device, dropout)\n",
        "\n",
        "        # initialize the first layer normalization\n",
        "        self.first_norm = nn.LayerNorm(embed_dim)\n",
        "\n",
        "        # initialize the feedforward network\n",
        "        self.feedforward = FeedForward(embed_dim, embed_dim, activation_function, num_hidden_neurons, num_hidden_layers=0,\n",
        "                                       task_type='regression', dropout=dropout)\n",
        "\n",
        "        # initialize the second layer normalization\n",
        "        self.second_norm = nn.LayerNorm(embed_dim)\n",
        "\n",
        "        # initialize the dropout layer\n",
        "        self.dropout_layer = nn.Dropout(dropout)\n",
        "\n",
        "    def forward(self, x: Tensor,device: torch.device) -> Tensor:\n",
        "\n",
        "        \"\"\"\n",
        "        Performs forward pass through the TransformerLSABlock layer.\n",
        "        \n",
        "        Args:\n",
        "        - x: input tensor\n",
        "        - device: the device to store the tensors on\n",
        "        \n",
        "        Returns:\n",
        "        - output tensor\n",
        "        \n",
        "        \"\"\"\n",
        "        # apply multi-locally self-attention\n",
        "        x = x + self.mlsa(x,device)\n",
        "\n",
        "        # apply first layer normalization\n",
        "        x = self.first_norm(x)\n",
        "\n",
        "        # apply feedforward network\n",
        "        x = x + self.feedforward(x)\n",
        "\n",
        "        # apply second layer normalization\n",
        "        x = self.second_norm(x)\n",
        "\n",
        "        # apply dropout\n",
        "        x = self.dropout_layer(x)\n",
        "\n",
        "        return x\n"
      ],
      "metadata": {
        "id": "nobKqgwSH-VD"
      },
      "execution_count": null,
      "outputs": []
    },
    {
      "cell_type": "markdown",
      "source": [
        "## Defining the Vision Transformer to Small Data Set"
      ],
      "metadata": {
        "id": "jTLXqHxVPvXC"
      }
    },
    {
      "cell_type": "code",
      "source": [
        "class ViTSD(nn.Module):\n",
        "  def __init__(self,\n",
        "               image_size,\n",
        "               patch_size,\n",
        "               embed_dim: int,\n",
        "               in_channels: int,\n",
        "               num_classes: int,\n",
        "               num_heads: int,\n",
        "               num_hidden_neurons: int,\n",
        "               num_hidden_layers: int,\n",
        "               transformer_activation_function: nn.Module,\n",
        "               feedfoward_activation_function: nn.Module,\n",
        "               num_transformer_blocks: int,\n",
        "               device: torch.device,\n",
        "               dropout: float = 0.1,\n",
        "               ):\n",
        "    \n",
        "    \"\"\"\n",
        "\n",
        "    A PyTorch implementation of a Vision Transformer for small datasets.\n",
        "    \n",
        "    Args:\n",
        "\n",
        "        image_size (int or tuple): The size of the input image. If an integer is given, the image is assumed to have the same width and height.\n",
        "        patch_size (int or tuple): The size of each patch. If an integer is given, the patch is assumed to have the same width and height.\n",
        "        embed_dim (int): The dimension of the output embedding.\n",
        "        in_channels (int): The number of channels in the input image.\n",
        "        num_classes (int): The number of classes in the dataset.\n",
        "        num_heads (int): The number of heads in the multi-head attention mechanism.\n",
        "        num_hidden_neurons (int): The number of neurons in the hidden layers of the feedforward network.\n",
        "        num_hidden_layers (int): The number of hidden layers in the feedforward network.\n",
        "        transformer_activation_function (nn.Module): The activation function used in the transformer blocks.\n",
        "        feedforward_activation_function (nn.Module): The activation function used in the feedforward network.\n",
        "        num_transformer_blocks (int): The number of transformer blocks.\n",
        "        device (torch.device): The device used for training and inference.\n",
        "        dropout (float): The dropout rate.\n",
        "\n",
        "    \"\"\"\n",
        "\n",
        "    super(ViTSD,self).__init__()\n",
        "\n",
        "    # Create an instance of the ShiftedPatchTokenization class with the given parameters\n",
        "    self.spt = ShiftedPatchTokenization(image_size,patch_size,embed_dim,in_channels)\n",
        "    # Create an empty list for the transformer blocks\n",
        "    self.transformer = nn.ModuleList()\n",
        "    # Get the number of patches\n",
        "    self.num_patches = self.spt.get_num_patches()\n",
        "\n",
        "    # Create a for loop that iterates over the number of transformer blocks\n",
        "    for _ in range(num_transformer_blocks):\n",
        "      # Add a TransformerLSABlock to the transformer list\n",
        "      self.transformer.append(\n",
        "          \n",
        "          TransformerLSABlock(embed_dim,\n",
        "                              num_heads,\n",
        "                              self.num_patches,\n",
        "                              num_hidden_neurons,\n",
        "                              transformer_activation_function,\n",
        "                              device,\n",
        "                              dropout)\n",
        "      )\n",
        "\n",
        "    # Calculate the number of neurons for the Flatten layer\n",
        "    self.num_neurons_flatten = (self.num_patches+1)*embed_dim\n",
        "    # Create a Flatten layer with the calculated number of neurons\n",
        "    self.flatten = Flatten(self.num_neurons_flatten)\n",
        "    # Create a compressor (FeedFoward) compress the size of num_neurons_flatten\n",
        "    self.compressor = nn.Linear(self.num_neurons_flatten,num_hidden_neurons)\n",
        "    self.activation = feedfoward_activation_function()\n",
        "\n",
        "    # Initialize the number of neurons for each feature to be used in the final feedforward layer\n",
        "    self.num_neurons_for_percentual_area_feature = 1\n",
        "    self.num_neurons_for_dmax_feature = 4\n",
        "    self.num_neurons_for_dmin_feature = 4\n",
        "    self.num_neurons_for_num_obj_feature = 4\n",
        "\n",
        "    # Initialize the number of neurons for the final feedforward layer to be 0\n",
        "    self.num_neurons_final_feedfoward = 0\n",
        "    # Add the number of neurons for each feature to the number of neurons for the final feedforward layer\n",
        "    self.num_neurons_final_feedfoward += num_hidden_neurons\n",
        "    self.num_neurons_final_feedfoward += self.num_neurons_for_percentual_area_feature\n",
        "    self.num_neurons_final_feedfoward += self.num_neurons_for_dmax_feature\n",
        "    self.num_neurons_final_feedfoward += self.num_neurons_for_dmin_feature\n",
        "    self.num_neurons_final_feedfoward += self.num_neurons_for_num_obj_feature\n",
        "\n",
        "    # Create a FeedForward layer with the calculated number of neurons, the given number of classes, and other parameters\n",
        "    self.feedfoward =  FeedForward(self.num_neurons_final_feedfoward,\n",
        "                                   num_classes,\n",
        "                                   feedfoward_activation_function,\n",
        "                                   num_hidden_neurons,\n",
        "                                   num_hidden_layers,\n",
        "                                   task_type='multi_classification',\n",
        "                                   dropout = dropout)\n",
        "    \n",
        "  def forward(self, images: Tensor, percentual_area: Tensor, dmax: Tensor,\n",
        "                dmin: Tensor, num_obj: Tensor, device: torch.device) -> Tensor:\n",
        "        \"\"\"\n",
        "        Forward pass of the ViTSD module, which takes in input images and returns predictions.\n",
        "        \n",
        "        Args:\n",
        "            images (torch.Tensor): Input images, with shape (batch_size, channels, height, width).\n",
        "            percentual_area (torch.Tensor): Tensor containing the percentual area of each object in the image, \n",
        "                with shape (batch_size, 1).\n",
        "            dmax (torch.Tensor): Tensor containing the maximum distance between the center of each object and the\n",
        "                center of the image, with shape (batch_size, 4).\n",
        "            dmin (torch.Tensor): Tensor containing the minimum distance between the center of each object and the\n",
        "                center of the image, with shape (batch_size, 4).\n",
        "            num_obj (torch.Tensor): Tensor containing the number of objects in each image, with shape (batch_size, 4).\n",
        "            device (torch.device): Device on which to perform the calculations.\n",
        "            \n",
        "        Returns:\n",
        "            torch.Tensor: Predictions of the model, with shape (batch_size, num_classes).\n",
        "        \"\"\"\n",
        "        \n",
        "        # Get patches from the input images using the ShiftedPatchTokenization module\n",
        "        patches = self.spt(images, device)\n",
        "        \n",
        "        # Pass patches through the transformer blocks\n",
        "        for layer in self.transformer:\n",
        "            patches = layer(patches, device)\n",
        "        \n",
        "        # Flatten the patches tensor\n",
        "        flatten_patches = self.flatten(patches)\n",
        "\n",
        "        # Compressing before concatenate\n",
        "        compressed_patches = self.compressor(flatten_patches)\n",
        "        compressed_patches = self.activation(compressed_patches)\n",
        "        \n",
        "        # Concatenate the flattened patches tensor with the additional features\n",
        "        concatenation = torch.concat((compressed_patches, percentual_area, dmax, dmin, num_obj), dim=1)\n",
        "        \n",
        "        # Pass the concatenated tensor through the FeedForward module to get predictions\n",
        "        predictions = self.feedfoward(concatenation)\n",
        "        \n",
        "        return predictions"
      ],
      "metadata": {
        "id": "lR-ecJvmIjLL"
      },
      "execution_count": null,
      "outputs": []
    },
    {
      "cell_type": "markdown",
      "source": [
        "# Training the final model Implementation"
      ],
      "metadata": {
        "id": "aTRRXFCAQA6S"
      }
    },
    {
      "cell_type": "markdown",
      "source": [
        "## Opening the Images"
      ],
      "metadata": {
        "id": "cfjYc9e6RCLN"
      }
    },
    {
      "cell_type": "code",
      "source": [
        "X_train_path = os.path.join('..','..','data','splitted','images','X_train.npy')\n",
        "y_train_path = os.path.join('..','..','data','splitted','labels','y_train.npy')\n",
        "X_valid_path = os.path.join('..','..','data','splitted','images','X_valid.npy')\n",
        "y_valid_path = os.path.join('..','..','data','splitted','labels','y_valid.npy')\n",
        "X_opt_path = os.path.join('..','..','data','splitted','images','X_opt.npy')\n",
        "y_opt_path = os.path.join('..','..','data','splitted','labels','y_opt.npy')\n",
        "\n",
        "\n",
        "X_test_path = os.path.join('..','..','data','splitted','images','X_test.npy')\n",
        "y_test_path = os.path.join('..','..','data','splitted','labels','y_test.npy')"
      ],
      "metadata": {
        "id": "dvk2Tvf_SN7R"
      },
      "execution_count": null,
      "outputs": []
    },
    {
      "cell_type": "markdown",
      "source": [
        "Opening:"
      ],
      "metadata": {
        "id": "8IrddZqNSS7V"
      }
    },
    {
      "cell_type": "code",
      "source": [
        "X_train = np.load(X_train_path)['data']\n",
        "y_train = np.load(y_train_path)['label']\n",
        "X_valid = np.load(X_valid_path)['data']\n",
        "y_valid = np.load(y_valid_path)['label']\n",
        "X_opt = np.load(X_opt_path)['data']\n",
        "y_opt = np.load(y_opt_path)['label']\n",
        "\n",
        "X_total_training = np.array([*X_train,*X_valid,*X_opt])\n",
        "y_total_training = np.array([*y_train,*y_valid,*y_opt])\n",
        "\n",
        "X_test = np.load(X_test_path)['data']\n",
        "y_test = np.load(y_test_path)['label']"
      ],
      "metadata": {
        "id": "JEYTF-YySST8"
      },
      "execution_count": null,
      "outputs": []
    },
    {
      "cell_type": "markdown",
      "source": [
        "## Declaring functions to pre-process and get new features we created in Notebook 2"
      ],
      "metadata": {
        "id": "J572BAeMSxSu"
      }
    },
    {
      "cell_type": "code",
      "source": [
        "def crop_min_area_rectangle(image, contour, final_size):\n",
        "\n",
        "  # Find minimum area rectangle for the given contour\n",
        "  min_area_rect = cv2.minAreaRect(contour)\n",
        "\n",
        "  # Convert rectangle to box points and then to integers\n",
        "  box_points = cv2.boxPoints(min_area_rect)\n",
        "  box_points = np.int0(box_points)\n",
        "\n",
        "  # Extract width and height of rectangle\n",
        "  width = min_area_rect[1][0]\n",
        "  height = min_area_rect[1][1]\n",
        "\n",
        "  # Find the minimum and maximum x and y coordinates of the box points\n",
        "  x_coordinates = [point[0] for point in box_points]\n",
        "  y_coordinates = [point[1] for point in box_points]\n",
        "  x1 = min(x_coordinates)\n",
        "  x2 = max(x_coordinates)\n",
        "  y1 = min(y_coordinates)\n",
        "  y2 = max(y_coordinates)\n",
        "\n",
        "  # Adjust the angle if necessary to be within the range [-45, 45]\n",
        "  angle = min_area_rect[2]\n",
        "  if angle < -45:\n",
        "      angle += 90\n",
        "\n",
        "  # Calculate the center and size of the upright rectangle bounding the rotated rectangle\n",
        "  center = ((x1+x2)/2, (y1+y2)/2)\n",
        "  size = (x2-x1, y2-y1)\n",
        "\n",
        "  # Get the transformation matrix for rotating the image\n",
        "  rotation_matrix = cv2.getRotationMatrix2D((size[0]/2, size[1]/2), angle, 1.0)\n",
        "\n",
        "  # Crop the upright rectangle\n",
        "  cropped_rectangle = cv2.getRectSubPix(cv2.convertScaleAbs(255*image.copy()), size, center)\n",
        "\n",
        "  # Rotate the cropped rectangle\n",
        "  cropped_rectangle = cv2.warpAffine(cropped_rectangle, rotation_matrix, size)\n",
        "\n",
        "  # Determine the width and height of the final cropped and rotated rectangle\n",
        "  cropped_width = height if height > width else width\n",
        "  cropped_height = height if height < width else width\n",
        "\n",
        "  # Get the final cropped and rotated rectangle\n",
        "  cropped_rotated = cv2.getRectSubPix(cropped_rectangle, (int(cropped_height), int(cropped_width)), (size[0]/2, size[1]/2))\n",
        "\n",
        "  # Normalize the pixel values to be in the range [0, 1]\n",
        "  cropped_rotated = cropped_rotated/255\n",
        "\n",
        "  # Resize the image to the desired final size\n",
        "  cropped_rotated = cv2.resize(cropped_rotated, final_size, interpolation=cv2.INTER_CUBIC)\n",
        "\n",
        "  return cropped_rotated\n",
        "\n",
        "def get_dmax_dmin(contours):\n",
        "  # check if there are more than one contour\n",
        "  if len(contours)>1:\n",
        "    # create empty lists to store the centers and distances\n",
        "    centers = []\n",
        "    distances = []\n",
        "    # iterate over each contour\n",
        "    for c in contours:\n",
        "      # compute the center of the contour\n",
        "      M = cv2.moments(c)\n",
        "      if M[\"m00\"]>0:\n",
        "        cX = int(M[\"m10\"] / (M[\"m00\"]))\n",
        "        cY = int(M[\"m01\"] / (M[\"m00\"]))\n",
        "      else:\n",
        "        # if the area is 0, set the center to (0,0)\n",
        "        cX = int(M[\"m10\"] / (1))\n",
        "        cY = int(M[\"m01\"] / (1))\n",
        "      # append the center to the list of centers\n",
        "      centers.append((cX,cY))\n",
        "    # iterate over each pair of centers\n",
        "    for i in range(len(contours)-1):\n",
        "      for j in range(i+1,len(contours)):\n",
        "          # compute the distance between the two centers\n",
        "          d = math.dist(centers[i],centers[j])\n",
        "          # append the distance to the list of distances\n",
        "          distances.append(d)\n",
        "    # compute the minimum and maximum distances\n",
        "    dmin = int(min(distances))\n",
        "    dmax = int(max(distances))\n",
        "    return dmax,dmin\n",
        "  else:\n",
        "    # if there is only one contour, return -1,-1 as an indication that dmax and dmin are undefined\n",
        "    return -1,-1\n",
        "\n",
        "def get_features(image, final_image_size: Tuple = (88,64), very_low_level: int = 0.1,\n",
        "                 low_level: int = 0.3, medium_level: int = 0.35, high_level: int = 0.4,\n",
        "                 original_size: int = 150):\n",
        "\n",
        "    # Preprocessing steps\n",
        "    blurred = cv2.GaussianBlur(image, (15, 15), 0)\n",
        "    _, thresh = cv2.threshold(blurred, 0.02, 1, cv2.THRESH_BINARY)\n",
        "    kernel = cv2.getStructuringElement(cv2.MORPH_RECT, (3, 3))\n",
        "    opening = cv2.morphologyEx(thresh, cv2.MORPH_OPEN, kernel)\n",
        "\n",
        "    # Get contours from opening image\n",
        "    contours, _ = cv2.findContours(image=cv2.convertScaleAbs(opening), mode=cv2.RETR_TREE,\n",
        "                                    method=cv2.CHAIN_APPROX_NONE)\n",
        "\n",
        "    # Crop image to minimum area rectangle and resize to desired final image size\n",
        "    final_image = crop_min_area_rectangle(image, contours[0], final_image_size)\n",
        "\n",
        "    # Calculate percentage of area of contours in original image\n",
        "    percentual_area = cv2.contourArea(contours[0]) / (original_size * original_size)\n",
        "\n",
        "    # Threshold blurred image at different levels and get number of objects and dmax/dmin for each\n",
        "    blurred = cv2.GaussianBlur(image, (5, 5), 0)\n",
        "\n",
        "    # Threshold for very low level\n",
        "    _, very_low_level_image = cv2.threshold(blurred, very_low_level, 1, cv2.THRESH_BINARY)\n",
        "    # Find contours for very low level\n",
        "    contours, _ = cv2.findContours(image=cv2.convertScaleAbs(very_low_level_image), mode=cv2.RETR_TREE, method=cv2.CHAIN_APPROX_NONE)\n",
        "    # Calculate number of objects and max and min diameters for very low level\n",
        "    num_obj_very_low_level = len(contours)\n",
        "    dmax_very_low, dmin_very_low = get_dmax_dmin(contours)\n",
        "\n",
        "    # Threshold for low level\n",
        "    _, low_level_image = cv2.threshold(blurred, low_level, 1, cv2.THRESH_BINARY)\n",
        "    # Find contours for low level\n",
        "    contours, _ = cv2.findContours(image=cv2.convertScaleAbs(low_level_image), mode=cv2.RETR_TREE, method=cv2.CHAIN_APPROX_NONE)\n",
        "    # Calculate number of objects and max and min diameters for low level\n",
        "    num_obj_low_level = len(contours)\n",
        "    dmax_low, dmin_low = get_dmax_dmin(contours)\n",
        "\n",
        "    # Threshold for medium level\n",
        "    _, medium_level_image = cv2.threshold(blurred, medium_level, 1, cv2.THRESH_BINARY)\n",
        "    # Find contours for medium level\n",
        "    contours, _ = cv2.findContours(image=cv2.convertScaleAbs(medium_level_image), mode=cv2.RETR_TREE, method=cv2.CHAIN_APPROX_NONE)\n",
        "    # Calculate number of objects and max and min diameters for medium level\n",
        "    num_obj_medium_level = len(contours)\n",
        "    dmax_medium, dmin_medium = get_dmax_dmin(contours)\n",
        "\n",
        "    # Threshold for high level\n",
        "    _, high_level_image = cv2.threshold(blurred, high_level, 1, cv2.THRESH_BINARY)\n",
        "    # Find contours for high level\n",
        "    contours, _ = cv2.findContours(image=cv2.convertScaleAbs(high_level_image), mode=cv2.RETR_TREE, method=cv2.CHAIN_APPROX_NONE)\n",
        "    # Calculate number of objects and max and min diameters for high level\n",
        "    num_obj_high_level = len(contours)\n",
        "    dmax_high, dmin_high = get_dmax_dmin(contours)\n",
        "\n",
        "    # Calculate the maximum and minimum distance between contours for each level\n",
        "    dmax = np.array([dmax_very_low, dmax_low, dmax_medium, dmax_high])\n",
        "    dmin = np.array([dmin_very_low, dmin_low, dmin_medium, dmin_high])\n",
        "    num_obj = np.array([num_obj_low_level, num_obj_low_level, num_obj_medium_level, num_obj_high_level])\n",
        "\n",
        "    # normalize the arrays\n",
        "    dmax = dmax / math.dist(final_image_size, (0,0))\n",
        "    dmin = dmin / math.dist(final_image_size, (0,0))\n",
        "    num_obj = (num_obj - 3) / 3\n",
        "\n",
        "    # Return all calculated features as a tuple\n",
        "    return final_image,percentual_area,dmax,dmin,num_obj"
      ],
      "metadata": {
        "id": "JomkDHo3S50m"
      },
      "execution_count": null,
      "outputs": []
    },
    {
      "cell_type": "markdown",
      "source": [
        "## Processing all images"
      ],
      "metadata": {
        "id": "rRvQXpBETZnp"
      }
    },
    {
      "cell_type": "markdown",
      "source": [
        "Create function to load the dataset:"
      ],
      "metadata": {
        "id": "Rf0wKOIxoK8k"
      }
    },
    {
      "cell_type": "code",
      "source": [
        "def get_loader_from_dataset(X: np.ndarray, y: np.ndarray, batch_size: int) -> DataLoader:\n",
        "\n",
        "    \"\"\"\n",
        "    \n",
        "    Creates a DataLoader object from numpy arrays containing images and labels.\n",
        "\n",
        "    Args:\n",
        "        X (np.ndarray): numpy array containing the images.\n",
        "        y (np.ndarray): numpy array containing the labels.\n",
        "        batch_size (int): size of the batches to use in the DataLoader.\n",
        "\n",
        "    Returns:\n",
        "        DataLoader: the created DataLoader object.\n",
        "\n",
        "    \"\"\"\n",
        "\n",
        "    # lists to store the extracted features from each image\n",
        "    final_images: List[np.ndarray] = []\n",
        "    percentual_areas: List[np.ndarray] = []\n",
        "    dmaxs: List[np.ndarray] = []\n",
        "    dmins: List[np.ndarray] = []\n",
        "    num_objs: List[np.ndarray] = []\n",
        "\n",
        "    # extract features from each image and store them in the lists\n",
        "    for image in X:\n",
        "        final_image, percentual_area, dmax, dmin, num_obj = get_features(image)\n",
        "\n",
        "        final_images.append(final_image)\n",
        "        percentual_areas.append(percentual_area)\n",
        "        dmaxs.append(dmax)\n",
        "        dmins.append(dmin)\n",
        "        num_objs.append(num_obj)\n",
        "\n",
        "    # convert feature lists to numpy arrays and reshape them\n",
        "    final_images = np.array(final_images)\n",
        "    final_images = final_images.reshape(len(final_images), 1, 88, 64)\n",
        "\n",
        "    percentual_areas = np.array(percentual_areas)\n",
        "    percentual_areas = percentual_areas.reshape(len(percentual_areas), 1)\n",
        "\n",
        "    dmaxs = np.array(dmaxs)\n",
        "    dmaxs = dmaxs.reshape(len(dmaxs), 4)\n",
        "\n",
        "    dmins = np.array(dmins)\n",
        "    dmins = dmins.reshape(len(dmins), 4)\n",
        "\n",
        "    num_objs = np.array(num_objs)\n",
        "    num_objs = num_objs.reshape(len(num_objs), 4)\n",
        "\n",
        "    # convert numpy arrays to PyTorch tensors\n",
        "    final_images = torch.Tensor(final_images)\n",
        "    percentual_areas = torch.Tensor(percentual_areas)\n",
        "    dmaxs = torch.Tensor(dmaxs)\n",
        "    dmins = torch.Tensor(dmins)\n",
        "    num_objs = torch.Tensor(num_objs)\n",
        "    targets = torch.Tensor(y)\n",
        "\n",
        "    # create a TensorDataset object with the tensors and a DataLoader object with the dataset\n",
        "    data = TensorDataset(final_images, percentual_areas, dmaxs, dmins, num_objs, targets)\n",
        "    loader = DataLoader(data, batch_size=batch_size)\n",
        "\n",
        "    return loader\n"
      ],
      "metadata": {
        "id": "OBjcibeMTnw-"
      },
      "execution_count": null,
      "outputs": []
    },
    {
      "cell_type": "code",
      "source": [
        "device = torch.device(\"cuda:0\" if torch.cuda.is_available() else \"cpu\")"
      ],
      "metadata": {
        "id": "maFgoDNtFgGI"
      },
      "execution_count": null,
      "outputs": []
    },
    {
      "cell_type": "code",
      "source": [
        "total_train_loader = get_loader_from_dataset(X_total_training, y_total_training, batch_size = 64)"
      ],
      "metadata": {
        "id": "s7UvD1FJdK8Y"
      },
      "execution_count": null,
      "outputs": []
    },
    {
      "cell_type": "markdown",
      "source": [
        "## Create the Model"
      ],
      "metadata": {
        "id": "7-emXWBYJ6W2"
      }
    },
    {
      "cell_type": "code",
      "source": [
        "# Optimized hyperparameters:\n",
        "lr = 1.9964928859585677e-05\n",
        "num_heads = 16\n",
        "embed_dim = 512\n",
        "num_hidden_neurons = 64\n",
        "num_transformer_blocks = 1\n",
        "\n",
        "\n",
        "image_size = (88,64)\n",
        "patch_size = (8,8)\n",
        "in_channels = 1\n",
        "num_classes = 2\n",
        "num_hidden_layers = 2\n",
        "transformer_activation_function = nn.ReLU\n",
        "feedfoward_activation_function = nn.GELU\n",
        "dropout = 0.1"
      ],
      "metadata": {
        "id": "_PbwFN2pQLan"
      },
      "execution_count": null,
      "outputs": []
    },
    {
      "cell_type": "code",
      "source": [
        "model = ViTSD(\n",
        "      image_size,\n",
        "      patch_size,\n",
        "      embed_dim,\n",
        "      in_channels,\n",
        "      num_classes,\n",
        "      num_heads,\n",
        "      num_hidden_neurons,\n",
        "      num_hidden_layers,\n",
        "      transformer_activation_function,\n",
        "      feedfoward_activation_function,\n",
        "      num_transformer_blocks,\n",
        "      device,\n",
        "      dropout,\n",
        ")"
      ],
      "metadata": {
        "id": "HSFMNQGgGDaI"
      },
      "execution_count": null,
      "outputs": []
    },
    {
      "cell_type": "code",
      "source": [
        "model.to(device)"
      ],
      "metadata": {
        "colab": {
          "base_uri": "https://localhost:8080/"
        },
        "id": "dXoP8ZgsGEmK",
        "outputId": "d547fffb-200b-4ab5-e0a9-337c320ca4ee"
      },
      "execution_count": null,
      "outputs": [
        {
          "output_type": "execute_result",
          "data": {
            "text/plain": [
              "ViTSD(\n",
              "  (spt): ShiftedPatchTokenization(\n",
              "    (projection): Conv2d(5, 512, kernel_size=(8, 8), stride=(8, 8))\n",
              "    (layer_norm): LayerNorm((512,), eps=1e-05, elementwise_affine=True)\n",
              "  )\n",
              "  (transformer): ModuleList(\n",
              "    (0): TransformerLSABlock(\n",
              "      (mlsa): MultiLocallySelfAttention(\n",
              "        (mha): MultiheadAttention(\n",
              "          (out_proj): NonDynamicallyQuantizableLinear(in_features=512, out_features=512, bias=True)\n",
              "        )\n",
              "      )\n",
              "      (first_norm): LayerNorm((512,), eps=1e-05, elementwise_affine=True)\n",
              "      (feedforward): FeedForward(\n",
              "        (feedforward): ModuleList(\n",
              "          (0): Linear(in_features=512, out_features=64, bias=True)\n",
              "          (1): ReLU()\n",
              "          (2): Dropout(p=0.1, inplace=False)\n",
              "          (3): Linear(in_features=64, out_features=512, bias=True)\n",
              "          (4): Identity()\n",
              "        )\n",
              "        (final_activation_function): Identity()\n",
              "      )\n",
              "      (second_norm): LayerNorm((512,), eps=1e-05, elementwise_affine=True)\n",
              "      (dropout_layer): Dropout(p=0.1, inplace=False)\n",
              "    )\n",
              "  )\n",
              "  (flatten): Flatten()\n",
              "  (compressor): Linear(in_features=45568, out_features=64, bias=True)\n",
              "  (activation): GELU(approximate='none')\n",
              "  (feedfoward): FeedForward(\n",
              "    (feedforward): ModuleList(\n",
              "      (0): Linear(in_features=77, out_features=64, bias=True)\n",
              "      (1): GELU(approximate='none')\n",
              "      (2): Dropout(p=0.1, inplace=False)\n",
              "      (3): Linear(in_features=64, out_features=64, bias=True)\n",
              "      (4): GELU(approximate='none')\n",
              "      (5): Dropout(p=0.1, inplace=False)\n",
              "      (6): Linear(in_features=64, out_features=64, bias=True)\n",
              "      (7): GELU(approximate='none')\n",
              "      (8): Dropout(p=0.1, inplace=False)\n",
              "      (9): Linear(in_features=64, out_features=2, bias=True)\n",
              "      (10): Softmax(dim=1)\n",
              "    )\n",
              "    (final_activation_function): Softmax(dim=1)\n",
              "  )\n",
              ")"
            ]
          },
          "metadata": {},
          "execution_count": 38
        }
      ]
    },
    {
      "cell_type": "markdown",
      "source": [
        "## Defining Training Functions"
      ],
      "metadata": {
        "id": "CBXDFCKXd_Lm"
      }
    },
    {
      "cell_type": "markdown",
      "source": [
        "### Defining the EarlyStopper class"
      ],
      "metadata": {
        "id": "XpgSn1BrpWKY"
      }
    },
    {
      "cell_type": "code",
      "source": [
        "class EarlyStopper:\n",
        "\n",
        "    def __init__(self, patience=1, min_delta=0):\n",
        "\n",
        "        \"\"\"\n",
        "        Early stopping class that can be used to stop training if the validation loss\n",
        "        does not improve after a certain number of epochs.\n",
        "\n",
        "        Based in  https://stackoverflow.com/questions/71998978/early-stopping-in-pytorch\n",
        "        \n",
        "        Args:\n",
        "        - patience (int): number of epochs with no improvement after which training will be stopped.\n",
        "        - min_delta (float): minimum change in the monitored quantity to qualify as an improvement. \n",
        "        \n",
        "        Attributes:\n",
        "        - patience (int): number of epochs with no improvement after which training will be stopped.\n",
        "        - min_delta (float): minimum change in the monitored quantity to qualify as an improvement. \n",
        "        - counter (int): counter to keep track of the number of epochs without improvement.\n",
        "        - min_validation_loss (float): minimum validation loss observed so far.\n",
        "        \"\"\"\n",
        "\n",
        "        self.patience = patience\n",
        "        self.min_delta = min_delta\n",
        "        self.counter = 0\n",
        "        self.min_validation_loss = np.inf\n",
        "\n",
        "    def early_stop(self, validation_loss: float) -> bool:\n",
        "\n",
        "        \"\"\"\n",
        "\n",
        "        Checks whether training should be stopped based on the current validation loss.\n",
        "        \n",
        "        Args:\n",
        "        - validation_loss (float): current validation loss. \n",
        "        \n",
        "        Returns:\n",
        "        - bool: True if training should be stopped, False otherwise. \n",
        "\n",
        "        \"\"\"\n",
        "\n",
        "        if validation_loss < self.min_validation_loss:\n",
        "            self.min_validation_loss = validation_loss\n",
        "            self.counter = 0\n",
        "        elif validation_loss > (self.min_validation_loss + self.min_delta):\n",
        "            self.counter += 1\n",
        "            if self.counter >= self.patience:\n",
        "                return True\n",
        "        return False"
      ],
      "metadata": {
        "id": "H7I5b3WOeDRS"
      },
      "execution_count": null,
      "outputs": []
    },
    {
      "cell_type": "markdown",
      "source": [
        "### Defining the Training Function:"
      ],
      "metadata": {
        "id": "s391Dob7rxfy"
      }
    },
    {
      "cell_type": "code",
      "source": [
        "def train_final_model(model,total_training_loader,n_epochs,optimizer,criterion,device):\n",
        "\n",
        "    \"\"\"\n",
        "\n",
        "    Trains a PyTorch model.\n",
        "\n",
        "    Args:\n",
        "\n",
        "    - model (nn.Module): the PyTorch model to be trained\n",
        "    - train_loader (DataLoader): DataLoader containing the training set\n",
        "    - n_epochs (int): number of training epochs\n",
        "    - optimizer (optim.Optimizer): the optimizer to use for training\n",
        "    - criterion (nn.Module): the loss function to use for training\n",
        "    - device (str): device to run the model on (e.g. 'cpu' or 'cuda')\n",
        "\n",
        "    Returns:\n",
        "\n",
        "    - mean_loss_train (list): mean loss per epoch for the training set\n",
        "    - mean_auc_train (list): mean ROC-AUC per epoch for the test set\n",
        "\n",
        "\n",
        "    \"\"\"\n",
        "\n",
        "    # initialize lists to keep track of metrics\n",
        "    mean_loss_train = []\n",
        "    mean_auc_train = []\n",
        "    \n",
        "    # initialize early stopper object\n",
        "    early_stopper = EarlyStopper(patience=3, min_delta=10)\n",
        "    \n",
        "    # loop over epochs\n",
        "    for it in range(n_epochs):\n",
        "        \n",
        "        # initialize list to keep track of train loss for this epoch\n",
        "        train_loss = []\n",
        "        train_auc = []\n",
        "        \n",
        "        # set model to train mode\n",
        "        model.train()\n",
        "        \n",
        "        # loop over training data\n",
        "        for final_images, percentual_areas, dmaxs, dmins, num_objs, targets in total_training_loader:\n",
        "            # move data to device\n",
        "            final_images, percentual_areas = final_images.to(device), percentual_areas.to(device)\n",
        "            dmaxs, dmins = dmaxs.to(device), dmins.to(device)\n",
        "            num_objs, targets = num_objs.to(device), targets.to(device)\n",
        "            \n",
        "            # zero the gradients\n",
        "            optimizer.zero_grad()\n",
        "            \n",
        "            # forward pass\n",
        "            outputs = model(final_images, percentual_areas, dmaxs, dmins, num_objs, device)\n",
        "            \n",
        "            # compute loss\n",
        "            loss = criterion(outputs, targets)\n",
        "            \n",
        "            # backward pass and optimization step\n",
        "            loss.backward()\n",
        "            optimizer.step()\n",
        "            \n",
        "            # append loss to train_loss list\n",
        "            train_loss.append(loss.item())\n",
        "\n",
        "            # ROC Score\n",
        "            preds = outputs.detach().cpu().numpy()\n",
        "            labels = targets.detach().cpu().numpy()\n",
        "\n",
        "            preds = [np.argmax(pred) for pred in preds]\n",
        "            labels = [np.argmax(label) for label in labels]\n",
        "            train_auc.append(roc_auc_score(labels,preds))\n",
        "        \n",
        "        # append the mean train loss for this epoch to the list of train losses\n",
        "        mean_loss_train.append(np.mean(train_loss))\n",
        "        mean_auc_train.append(np.mean(train_auc))\n",
        "        \n",
        "        # print epoch metrics\n",
        "        print(f'Epoch {it}/{n_epochs}, Train Loss: {mean_loss_train[-1]:.4f}, Train AUC: {mean_auc_train[-1]:.4f}')\n",
        "        \n",
        "    \n",
        "    # return lists of mean train\n",
        "    return mean_loss_train,mean_auc_train"
      ],
      "metadata": {
        "id": "Zn2zK0sWq0Y6"
      },
      "execution_count": null,
      "outputs": []
    },
    {
      "cell_type": "markdown",
      "source": [
        "### Defining function to plot results:"
      ],
      "metadata": {
        "id": "INyOBL0mp3Y2"
      }
    },
    {
      "cell_type": "code",
      "source": [
        "def plot_model_metrics(mean_loss_train, mean_auc_train):\n",
        "    \"\"\"\n",
        "    Plots the training loss and ROC-AUC over epochs.\n",
        "\n",
        "    Args:\n",
        "        mean_loss_train (list): List of mean training loss over epochs.\n",
        "        mean_auc_train (list): List of mean training ROC-AUC over epochs.\n",
        "\n",
        "    Returns:\n",
        "        None\n",
        "    \"\"\"\n",
        "    # Plot training and testing loss over epochs\n",
        "    plt.figure()\n",
        "    plt.plot(mean_loss_train, label='Train')\n",
        "    plt.title('Loss - Epochs')\n",
        "    plt.xlabel('Epochs')\n",
        "    plt.ylabel('Loss')\n",
        "    plt.legend()\n",
        "    plt.show()\n",
        "\n",
        "    print('\\n\\n')\n",
        "\n",
        "    plt.figure()\n",
        "    plt.title('ROC AUC by Batch Iteration')\n",
        "    plt.xlabel('Epochs')\n",
        "    plt.ylabel('ROC-AUC')\n",
        "    plt.plot(mean_auc_train,label='ROC-AUC - Train')\n",
        "    plt.legend()\n",
        "    plt.show()"
      ],
      "metadata": {
        "id": "kwIggVdUp2x1"
      },
      "execution_count": null,
      "outputs": []
    },
    {
      "cell_type": "markdown",
      "source": [
        "## Training the model"
      ],
      "metadata": {
        "id": "_46hKGaHKGi0"
      }
    },
    {
      "cell_type": "code",
      "source": [
        "criterion = nn.CrossEntropyLoss()\n",
        "optimizer = torch.optim.Adam(model.parameters(),lr=lr)"
      ],
      "metadata": {
        "id": "J7IlyY3FfGzH"
      },
      "execution_count": null,
      "outputs": []
    },
    {
      "cell_type": "code",
      "source": [
        "# Change this if you want to train the model\n",
        "TRAIN_MODEL = False\n",
        "\n",
        "if TRAIN_MODEL:\n",
        "  mean_loss_train,mean_auc_train = train_final_model(model,total_train_loader,n_epochs=250,optimizer=optimizer,criterion=criterion,device=device)"
      ],
      "metadata": {
        "colab": {
          "base_uri": "https://localhost:8080/"
        },
        "id": "4fpfFLThXVEq",
        "outputId": "4c5da8e5-935d-46f5-80fa-294a87e78686"
      },
      "execution_count": null,
      "outputs": [
        {
          "output_type": "stream",
          "name": "stdout",
          "text": [
            "Epoch 0/250, Train Loss: 0.6813, Train AUC: 0.5582\n",
            "Epoch 1/250, Train Loss: 0.6259, Train AUC: 0.6791\n",
            "Epoch 2/250, Train Loss: 0.5749, Train AUC: 0.7422\n",
            "Epoch 3/250, Train Loss: 0.5364, Train AUC: 0.7850\n",
            "Epoch 4/250, Train Loss: 0.5072, Train AUC: 0.8131\n",
            "Epoch 5/250, Train Loss: 0.4834, Train AUC: 0.8337\n",
            "Epoch 6/250, Train Loss: 0.4696, Train AUC: 0.8456\n",
            "Epoch 7/250, Train Loss: 0.4580, Train AUC: 0.8547\n",
            "Epoch 8/250, Train Loss: 0.4485, Train AUC: 0.8652\n",
            "Epoch 9/250, Train Loss: 0.4395, Train AUC: 0.8739\n",
            "Epoch 10/250, Train Loss: 0.4313, Train AUC: 0.8811\n",
            "Epoch 11/250, Train Loss: 0.4219, Train AUC: 0.8943\n",
            "Epoch 12/250, Train Loss: 0.4221, Train AUC: 0.8917\n",
            "Epoch 13/250, Train Loss: 0.4112, Train AUC: 0.9017\n",
            "Epoch 14/250, Train Loss: 0.4067, Train AUC: 0.9057\n",
            "Epoch 15/250, Train Loss: 0.4012, Train AUC: 0.9128\n",
            "Epoch 16/250, Train Loss: 0.3973, Train AUC: 0.9167\n",
            "Epoch 17/250, Train Loss: 0.3955, Train AUC: 0.9175\n",
            "Epoch 18/250, Train Loss: 0.3924, Train AUC: 0.9215\n",
            "Epoch 19/250, Train Loss: 0.3902, Train AUC: 0.9229\n",
            "Epoch 20/250, Train Loss: 0.3871, Train AUC: 0.9260\n",
            "Epoch 21/250, Train Loss: 0.3825, Train AUC: 0.9292\n",
            "Epoch 22/250, Train Loss: 0.3842, Train AUC: 0.9295\n",
            "Epoch 23/250, Train Loss: 0.3808, Train AUC: 0.9326\n",
            "Epoch 24/250, Train Loss: 0.3833, Train AUC: 0.9288\n",
            "Epoch 25/250, Train Loss: 0.3778, Train AUC: 0.9359\n",
            "Epoch 26/250, Train Loss: 0.3751, Train AUC: 0.9389\n",
            "Epoch 27/250, Train Loss: 0.3726, Train AUC: 0.9400\n",
            "Epoch 28/250, Train Loss: 0.3714, Train AUC: 0.9422\n",
            "Epoch 29/250, Train Loss: 0.3712, Train AUC: 0.9414\n",
            "Epoch 30/250, Train Loss: 0.3685, Train AUC: 0.9450\n",
            "Epoch 31/250, Train Loss: 0.3661, Train AUC: 0.9493\n",
            "Epoch 32/250, Train Loss: 0.3661, Train AUC: 0.9484\n",
            "Epoch 33/250, Train Loss: 0.3647, Train AUC: 0.9482\n",
            "Epoch 34/250, Train Loss: 0.3649, Train AUC: 0.9469\n",
            "Epoch 35/250, Train Loss: 0.3658, Train AUC: 0.9464\n",
            "Epoch 36/250, Train Loss: 0.3626, Train AUC: 0.9509\n",
            "Epoch 37/250, Train Loss: 0.3637, Train AUC: 0.9485\n",
            "Epoch 38/250, Train Loss: 0.3657, Train AUC: 0.9461\n",
            "Epoch 39/250, Train Loss: 0.3610, Train AUC: 0.9523\n",
            "Epoch 40/250, Train Loss: 0.3600, Train AUC: 0.9534\n",
            "Epoch 41/250, Train Loss: 0.3594, Train AUC: 0.9547\n",
            "Epoch 42/250, Train Loss: 0.3576, Train AUC: 0.9564\n",
            "Epoch 43/250, Train Loss: 0.3597, Train AUC: 0.9544\n",
            "Epoch 44/250, Train Loss: 0.3576, Train AUC: 0.9549\n",
            "Epoch 45/250, Train Loss: 0.3560, Train AUC: 0.9555\n",
            "Epoch 46/250, Train Loss: 0.3556, Train AUC: 0.9572\n",
            "Epoch 47/250, Train Loss: 0.3553, Train AUC: 0.9581\n",
            "Epoch 48/250, Train Loss: 0.3500, Train AUC: 0.9638\n",
            "Epoch 49/250, Train Loss: 0.3580, Train AUC: 0.9565\n",
            "Epoch 50/250, Train Loss: 0.3531, Train AUC: 0.9609\n",
            "Epoch 51/250, Train Loss: 0.3557, Train AUC: 0.9575\n",
            "Epoch 52/250, Train Loss: 0.3545, Train AUC: 0.9587\n",
            "Epoch 53/250, Train Loss: 0.3523, Train AUC: 0.9610\n",
            "Epoch 54/250, Train Loss: 0.3552, Train AUC: 0.9585\n",
            "Epoch 55/250, Train Loss: 0.3516, Train AUC: 0.9609\n",
            "Epoch 56/250, Train Loss: 0.3492, Train AUC: 0.9654\n",
            "Epoch 57/250, Train Loss: 0.3490, Train AUC: 0.9649\n",
            "Epoch 58/250, Train Loss: 0.3495, Train AUC: 0.9632\n",
            "Epoch 59/250, Train Loss: 0.3482, Train AUC: 0.9658\n",
            "Epoch 60/250, Train Loss: 0.3494, Train AUC: 0.9638\n",
            "Epoch 61/250, Train Loss: 0.3485, Train AUC: 0.9655\n",
            "Epoch 62/250, Train Loss: 0.3477, Train AUC: 0.9658\n",
            "Epoch 63/250, Train Loss: 0.3455, Train AUC: 0.9675\n",
            "Epoch 64/250, Train Loss: 0.3490, Train AUC: 0.9642\n",
            "Epoch 65/250, Train Loss: 0.3426, Train AUC: 0.9709\n",
            "Epoch 66/250, Train Loss: 0.3428, Train AUC: 0.9706\n",
            "Epoch 67/250, Train Loss: 0.3452, Train AUC: 0.9671\n",
            "Epoch 68/250, Train Loss: 0.3435, Train AUC: 0.9704\n",
            "Epoch 69/250, Train Loss: 0.3407, Train AUC: 0.9727\n",
            "Epoch 70/250, Train Loss: 0.3440, Train AUC: 0.9692\n",
            "Epoch 71/250, Train Loss: 0.3418, Train AUC: 0.9715\n",
            "Epoch 72/250, Train Loss: 0.3472, Train AUC: 0.9652\n",
            "Epoch 73/250, Train Loss: 0.3456, Train AUC: 0.9679\n",
            "Epoch 74/250, Train Loss: 0.3422, Train AUC: 0.9710\n",
            "Epoch 75/250, Train Loss: 0.3428, Train AUC: 0.9703\n",
            "Epoch 76/250, Train Loss: 0.3397, Train AUC: 0.9735\n",
            "Epoch 77/250, Train Loss: 0.3405, Train AUC: 0.9735\n",
            "Epoch 78/250, Train Loss: 0.3404, Train AUC: 0.9721\n",
            "Epoch 79/250, Train Loss: 0.3436, Train AUC: 0.9690\n",
            "Epoch 80/250, Train Loss: 0.3417, Train AUC: 0.9717\n",
            "Epoch 81/250, Train Loss: 0.3426, Train AUC: 0.9703\n",
            "Epoch 82/250, Train Loss: 0.3453, Train AUC: 0.9676\n",
            "Epoch 83/250, Train Loss: 0.3388, Train AUC: 0.9747\n",
            "Epoch 84/250, Train Loss: 0.3356, Train AUC: 0.9779\n",
            "Epoch 85/250, Train Loss: 0.3441, Train AUC: 0.9682\n",
            "Epoch 86/250, Train Loss: 0.3384, Train AUC: 0.9748\n",
            "Epoch 87/250, Train Loss: 0.3393, Train AUC: 0.9732\n",
            "Epoch 88/250, Train Loss: 0.3392, Train AUC: 0.9732\n",
            "Epoch 89/250, Train Loss: 0.3355, Train AUC: 0.9780\n",
            "Epoch 90/250, Train Loss: 0.3370, Train AUC: 0.9769\n",
            "Epoch 91/250, Train Loss: 0.3393, Train AUC: 0.9732\n",
            "Epoch 92/250, Train Loss: 0.3412, Train AUC: 0.9722\n",
            "Epoch 93/250, Train Loss: 0.3402, Train AUC: 0.9729\n",
            "Epoch 94/250, Train Loss: 0.3404, Train AUC: 0.9724\n",
            "Epoch 95/250, Train Loss: 0.3412, Train AUC: 0.9728\n",
            "Epoch 96/250, Train Loss: 0.3378, Train AUC: 0.9754\n",
            "Epoch 97/250, Train Loss: 0.3409, Train AUC: 0.9725\n",
            "Epoch 98/250, Train Loss: 0.3358, Train AUC: 0.9773\n",
            "Epoch 99/250, Train Loss: 0.3364, Train AUC: 0.9764\n",
            "Epoch 100/250, Train Loss: 0.3389, Train AUC: 0.9740\n",
            "Epoch 101/250, Train Loss: 0.3421, Train AUC: 0.9709\n",
            "Epoch 102/250, Train Loss: 0.3382, Train AUC: 0.9742\n",
            "Epoch 103/250, Train Loss: 0.3396, Train AUC: 0.9733\n",
            "Epoch 104/250, Train Loss: 0.3389, Train AUC: 0.9733\n",
            "Epoch 105/250, Train Loss: 0.3420, Train AUC: 0.9710\n",
            "Epoch 106/250, Train Loss: 0.3342, Train AUC: 0.9796\n",
            "Epoch 107/250, Train Loss: 0.3356, Train AUC: 0.9768\n",
            "Epoch 108/250, Train Loss: 0.3338, Train AUC: 0.9793\n",
            "Epoch 109/250, Train Loss: 0.3351, Train AUC: 0.9784\n",
            "Epoch 110/250, Train Loss: 0.3337, Train AUC: 0.9795\n",
            "Epoch 111/250, Train Loss: 0.3342, Train AUC: 0.9791\n",
            "Epoch 112/250, Train Loss: 0.3326, Train AUC: 0.9811\n",
            "Epoch 113/250, Train Loss: 0.3410, Train AUC: 0.9727\n",
            "Epoch 114/250, Train Loss: 0.3330, Train AUC: 0.9799\n",
            "Epoch 115/250, Train Loss: 0.3354, Train AUC: 0.9780\n",
            "Epoch 116/250, Train Loss: 0.3350, Train AUC: 0.9782\n",
            "Epoch 117/250, Train Loss: 0.3331, Train AUC: 0.9802\n",
            "Epoch 118/250, Train Loss: 0.3390, Train AUC: 0.9736\n",
            "Epoch 119/250, Train Loss: 0.3369, Train AUC: 0.9756\n",
            "Epoch 120/250, Train Loss: 0.3369, Train AUC: 0.9757\n",
            "Epoch 121/250, Train Loss: 0.3356, Train AUC: 0.9771\n",
            "Epoch 122/250, Train Loss: 0.3378, Train AUC: 0.9759\n",
            "Epoch 123/250, Train Loss: 0.3366, Train AUC: 0.9756\n",
            "Epoch 124/250, Train Loss: 0.3324, Train AUC: 0.9806\n",
            "Epoch 125/250, Train Loss: 0.3334, Train AUC: 0.9794\n",
            "Epoch 126/250, Train Loss: 0.3336, Train AUC: 0.9795\n",
            "Epoch 127/250, Train Loss: 0.3340, Train AUC: 0.9791\n",
            "Epoch 128/250, Train Loss: 0.3345, Train AUC: 0.9786\n",
            "Epoch 129/250, Train Loss: 0.3338, Train AUC: 0.9796\n",
            "Epoch 130/250, Train Loss: 0.3317, Train AUC: 0.9813\n",
            "Epoch 131/250, Train Loss: 0.3303, Train AUC: 0.9833\n",
            "Epoch 132/250, Train Loss: 0.3310, Train AUC: 0.9816\n",
            "Epoch 133/250, Train Loss: 0.3453, Train AUC: 0.9680\n",
            "Epoch 134/250, Train Loss: 0.3324, Train AUC: 0.9809\n",
            "Epoch 135/250, Train Loss: 0.3357, Train AUC: 0.9779\n",
            "Epoch 136/250, Train Loss: 0.3358, Train AUC: 0.9770\n",
            "Epoch 137/250, Train Loss: 0.3337, Train AUC: 0.9789\n",
            "Epoch 138/250, Train Loss: 0.3354, Train AUC: 0.9773\n",
            "Epoch 139/250, Train Loss: 0.3328, Train AUC: 0.9794\n",
            "Epoch 140/250, Train Loss: 0.3336, Train AUC: 0.9788\n",
            "Epoch 141/250, Train Loss: 0.3319, Train AUC: 0.9812\n",
            "Epoch 142/250, Train Loss: 0.3340, Train AUC: 0.9788\n",
            "Epoch 143/250, Train Loss: 0.3319, Train AUC: 0.9814\n",
            "Epoch 144/250, Train Loss: 0.3319, Train AUC: 0.9810\n",
            "Epoch 145/250, Train Loss: 0.3324, Train AUC: 0.9810\n",
            "Epoch 146/250, Train Loss: 0.3338, Train AUC: 0.9788\n",
            "Epoch 147/250, Train Loss: 0.3355, Train AUC: 0.9779\n",
            "Epoch 148/250, Train Loss: 0.3364, Train AUC: 0.9767\n",
            "Epoch 149/250, Train Loss: 0.3314, Train AUC: 0.9816\n",
            "Epoch 150/250, Train Loss: 0.3296, Train AUC: 0.9835\n",
            "Epoch 151/250, Train Loss: 0.3306, Train AUC: 0.9822\n",
            "Epoch 152/250, Train Loss: 0.3286, Train AUC: 0.9848\n",
            "Epoch 153/250, Train Loss: 0.3378, Train AUC: 0.9754\n",
            "Epoch 154/250, Train Loss: 0.3337, Train AUC: 0.9788\n",
            "Epoch 155/250, Train Loss: 0.3324, Train AUC: 0.9806\n",
            "Epoch 156/250, Train Loss: 0.3317, Train AUC: 0.9812\n",
            "Epoch 157/250, Train Loss: 0.3288, Train AUC: 0.9843\n",
            "Epoch 158/250, Train Loss: 0.3303, Train AUC: 0.9825\n",
            "Epoch 159/250, Train Loss: 0.3286, Train AUC: 0.9841\n",
            "Epoch 160/250, Train Loss: 0.3271, Train AUC: 0.9863\n",
            "Epoch 161/250, Train Loss: 0.3304, Train AUC: 0.9831\n",
            "Epoch 162/250, Train Loss: 0.3320, Train AUC: 0.9811\n",
            "Epoch 163/250, Train Loss: 0.3301, Train AUC: 0.9835\n",
            "Epoch 164/250, Train Loss: 0.3315, Train AUC: 0.9817\n",
            "Epoch 165/250, Train Loss: 0.3330, Train AUC: 0.9804\n",
            "Epoch 166/250, Train Loss: 0.3314, Train AUC: 0.9816\n",
            "Epoch 167/250, Train Loss: 0.3300, Train AUC: 0.9826\n",
            "Epoch 168/250, Train Loss: 0.3311, Train AUC: 0.9818\n",
            "Epoch 169/250, Train Loss: 0.3296, Train AUC: 0.9839\n",
            "Epoch 170/250, Train Loss: 0.3292, Train AUC: 0.9839\n",
            "Epoch 171/250, Train Loss: 0.3288, Train AUC: 0.9843\n",
            "Epoch 172/250, Train Loss: 0.3281, Train AUC: 0.9850\n",
            "Epoch 173/250, Train Loss: 0.3308, Train AUC: 0.9826\n",
            "Epoch 174/250, Train Loss: 0.3366, Train AUC: 0.9760\n",
            "Epoch 175/250, Train Loss: 0.3316, Train AUC: 0.9816\n",
            "Epoch 176/250, Train Loss: 0.3304, Train AUC: 0.9827\n",
            "Epoch 177/250, Train Loss: 0.3269, Train AUC: 0.9864\n",
            "Epoch 178/250, Train Loss: 0.3315, Train AUC: 0.9815\n",
            "Epoch 179/250, Train Loss: 0.3299, Train AUC: 0.9833\n",
            "Epoch 180/250, Train Loss: 0.3277, Train AUC: 0.9853\n",
            "Epoch 181/250, Train Loss: 0.3317, Train AUC: 0.9811\n",
            "Epoch 182/250, Train Loss: 0.3292, Train AUC: 0.9840\n",
            "Epoch 183/250, Train Loss: 0.3305, Train AUC: 0.9826\n",
            "Epoch 184/250, Train Loss: 0.3297, Train AUC: 0.9835\n",
            "Epoch 185/250, Train Loss: 0.3290, Train AUC: 0.9844\n",
            "Epoch 186/250, Train Loss: 0.3288, Train AUC: 0.9848\n",
            "Epoch 187/250, Train Loss: 0.3293, Train AUC: 0.9834\n",
            "Epoch 188/250, Train Loss: 0.3286, Train AUC: 0.9846\n",
            "Epoch 189/250, Train Loss: 0.3340, Train AUC: 0.9780\n",
            "Epoch 190/250, Train Loss: 0.3297, Train AUC: 0.9835\n",
            "Epoch 191/250, Train Loss: 0.3283, Train AUC: 0.9848\n",
            "Epoch 192/250, Train Loss: 0.3294, Train AUC: 0.9838\n",
            "Epoch 193/250, Train Loss: 0.3308, Train AUC: 0.9829\n",
            "Epoch 194/250, Train Loss: 0.3293, Train AUC: 0.9839\n",
            "Epoch 195/250, Train Loss: 0.3276, Train AUC: 0.9853\n",
            "Epoch 196/250, Train Loss: 0.3301, Train AUC: 0.9828\n",
            "Epoch 197/250, Train Loss: 0.3297, Train AUC: 0.9828\n",
            "Epoch 198/250, Train Loss: 0.3348, Train AUC: 0.9779\n",
            "Epoch 199/250, Train Loss: 0.3285, Train AUC: 0.9847\n",
            "Epoch 200/250, Train Loss: 0.3301, Train AUC: 0.9828\n",
            "Epoch 201/250, Train Loss: 0.3265, Train AUC: 0.9866\n",
            "Epoch 202/250, Train Loss: 0.3260, Train AUC: 0.9872\n",
            "Epoch 203/250, Train Loss: 0.3299, Train AUC: 0.9832\n",
            "Epoch 204/250, Train Loss: 0.3297, Train AUC: 0.9835\n",
            "Epoch 205/250, Train Loss: 0.3276, Train AUC: 0.9856\n",
            "Epoch 206/250, Train Loss: 0.3435, Train AUC: 0.9683\n",
            "Epoch 207/250, Train Loss: 0.3307, Train AUC: 0.9823\n",
            "Epoch 208/250, Train Loss: 0.3273, Train AUC: 0.9855\n",
            "Epoch 209/250, Train Loss: 0.3329, Train AUC: 0.9798\n",
            "Epoch 210/250, Train Loss: 0.3307, Train AUC: 0.9822\n",
            "Epoch 211/250, Train Loss: 0.3254, Train AUC: 0.9875\n",
            "Epoch 212/250, Train Loss: 0.3277, Train AUC: 0.9856\n",
            "Epoch 213/250, Train Loss: 0.3351, Train AUC: 0.9777\n",
            "Epoch 214/250, Train Loss: 0.3269, Train AUC: 0.9865\n",
            "Epoch 215/250, Train Loss: 0.3281, Train AUC: 0.9852\n",
            "Epoch 216/250, Train Loss: 0.3264, Train AUC: 0.9869\n",
            "Epoch 217/250, Train Loss: 0.3286, Train AUC: 0.9848\n",
            "Epoch 218/250, Train Loss: 0.3296, Train AUC: 0.9835\n",
            "Epoch 219/250, Train Loss: 0.3262, Train AUC: 0.9868\n",
            "Epoch 220/250, Train Loss: 0.3291, Train AUC: 0.9842\n",
            "Epoch 221/250, Train Loss: 0.3281, Train AUC: 0.9848\n",
            "Epoch 222/250, Train Loss: 0.3306, Train AUC: 0.9826\n",
            "Epoch 223/250, Train Loss: 0.3265, Train AUC: 0.9860\n",
            "Epoch 224/250, Train Loss: 0.3258, Train AUC: 0.9875\n",
            "Epoch 225/250, Train Loss: 0.3288, Train AUC: 0.9841\n",
            "Epoch 226/250, Train Loss: 0.3246, Train AUC: 0.9889\n",
            "Epoch 227/250, Train Loss: 0.3249, Train AUC: 0.9883\n",
            "Epoch 228/250, Train Loss: 0.3292, Train AUC: 0.9838\n",
            "Epoch 229/250, Train Loss: 0.3284, Train AUC: 0.9847\n",
            "Epoch 230/250, Train Loss: 0.3271, Train AUC: 0.9858\n",
            "Epoch 231/250, Train Loss: 0.3270, Train AUC: 0.9861\n",
            "Epoch 232/250, Train Loss: 0.3325, Train AUC: 0.9803\n",
            "Epoch 233/250, Train Loss: 0.3281, Train AUC: 0.9853\n",
            "Epoch 234/250, Train Loss: 0.3290, Train AUC: 0.9839\n",
            "Epoch 235/250, Train Loss: 0.3273, Train AUC: 0.9860\n",
            "Epoch 236/250, Train Loss: 0.3265, Train AUC: 0.9865\n",
            "Epoch 237/250, Train Loss: 0.3275, Train AUC: 0.9858\n",
            "Epoch 238/250, Train Loss: 0.3261, Train AUC: 0.9874\n",
            "Epoch 239/250, Train Loss: 0.3258, Train AUC: 0.9878\n",
            "Epoch 240/250, Train Loss: 0.3247, Train AUC: 0.9884\n",
            "Epoch 241/250, Train Loss: 0.3276, Train AUC: 0.9855\n",
            "Epoch 242/250, Train Loss: 0.3404, Train AUC: 0.9715\n",
            "Epoch 243/250, Train Loss: 0.3252, Train AUC: 0.9878\n",
            "Epoch 244/250, Train Loss: 0.3309, Train AUC: 0.9811\n",
            "Epoch 245/250, Train Loss: 0.3286, Train AUC: 0.9844\n",
            "Epoch 246/250, Train Loss: 0.3263, Train AUC: 0.9869\n",
            "Epoch 247/250, Train Loss: 0.3361, Train AUC: 0.9772\n",
            "Epoch 248/250, Train Loss: 0.3270, Train AUC: 0.9863\n",
            "Epoch 249/250, Train Loss: 0.3255, Train AUC: 0.9875\n"
          ]
        }
      ]
    },
    {
      "cell_type": "code",
      "source": [
        "if TRAIN_MODEL:\n",
        "  plot_model_metrics(mean_loss_train, mean_auc_train)"
      ],
      "metadata": {
        "colab": {
          "base_uri": "https://localhost:8080/",
          "height": 979
        },
        "id": "goOOvkTIZrcX",
        "outputId": "c5653671-c5d0-4302-e58b-685d2d3c1c0c"
      },
      "execution_count": null,
      "outputs": [
        {
          "output_type": "display_data",
          "data": {
            "text/plain": [
              "<Figure size 640x480 with 1 Axes>"
            ],
            "image/png": "[encoded data removed]"
          },
          "metadata": {}
        },
        {
          "output_type": "stream",
          "name": "stdout",
          "text": [
            "\n",
            "\n",
            "\n"
          ]
        },
        {
          "output_type": "display_data",
          "data": {
            "text/plain": [
              "<Figure size 640x480 with 1 Axes>"
            ],
            "image/png": "[encoded data removed]"
          },
          "metadata": {}
        }
      ]
    },
    {
      "cell_type": "code",
      "source": [
        "if TRAIN_MODEL:\n",
        "  torch.save(model.state_dict(), path.join('..','models','final','final_model.pth'))"
      ],
      "metadata": {
        "id": "t0nxgUVTdBN3"
      },
      "execution_count": null,
      "outputs": []
    },
    {
      "cell_type": "markdown",
      "source": [
        "# Final Evaluation"
      ],
      "metadata": {
        "id": "W9P4S7eL1PUw"
      }
    },
    {
      "cell_type": "markdown",
      "source": [
        "Let's open the final model:"
      ],
      "metadata": {
        "id": "L5QS6XUAe-oc"
      }
    },
    {
      "cell_type": "code",
      "source": [
        "FINAL_MODEL_PATH = path.join('..','models','final','final_model.pth')"
      ],
      "metadata": {
        "id": "Pm8oSAhWmI3J"
      },
      "execution_count": null,
      "outputs": []
    },
    {
      "cell_type": "code",
      "source": [
        "# Optimized hyperparameters:\n",
        "lr = 1.9964928859585677e-05\n",
        "num_heads = 16\n",
        "embed_dim = 512\n",
        "num_hidden_neurons = 64\n",
        "num_transformer_blocks = 1\n",
        "\n",
        "\n",
        "image_size = (88,64)\n",
        "patch_size = (8,8)\n",
        "in_channels = 1\n",
        "num_classes = 2\n",
        "num_hidden_layers = 2\n",
        "transformer_activation_function = nn.ReLU\n",
        "feedfoward_activation_function = nn.GELU\n",
        "dropout = 0.1\n",
        "\n",
        "\n",
        "model = ViTSD(\n",
        "              image_size,\n",
        "              patch_size,\n",
        "              embed_dim,\n",
        "              in_channels,\n",
        "              num_classes,\n",
        "              num_heads,\n",
        "              num_hidden_neurons,\n",
        "              num_hidden_layers,\n",
        "              transformer_activation_function,\n",
        "              feedfoward_activation_function,\n",
        "              num_transformer_blocks,\n",
        "              device,\n",
        "              dropout,\n",
        ")\n",
        "device = torch.device(\"cuda:0\" if torch.cuda.is_available() else \"cpu\")\n",
        "model.load_state_dict(torch.load(FINAL_MODEL_PATH))\n",
        "model.to(device)\n",
        "model.eval()"
      ],
      "metadata": {
        "colab": {
          "base_uri": "https://localhost:8080/"
        },
        "id": "neeQ_WTIfBTu",
        "outputId": "e9813a21-af21-4b87-d7a5-805c30d3735d"
      },
      "execution_count": null,
      "outputs": [
        {
          "output_type": "execute_result",
          "data": {
            "text/plain": [
              "ViTSD(\n",
              "  (spt): ShiftedPatchTokenization(\n",
              "    (projection): Conv2d(5, 512, kernel_size=(8, 8), stride=(8, 8))\n",
              "    (layer_norm): LayerNorm((512,), eps=1e-05, elementwise_affine=True)\n",
              "  )\n",
              "  (transformer): ModuleList(\n",
              "    (0): TransformerLSABlock(\n",
              "      (mlsa): MultiLocallySelfAttention(\n",
              "        (mha): MultiheadAttention(\n",
              "          (out_proj): NonDynamicallyQuantizableLinear(in_features=512, out_features=512, bias=True)\n",
              "        )\n",
              "      )\n",
              "      (first_norm): LayerNorm((512,), eps=1e-05, elementwise_affine=True)\n",
              "      (feedforward): FeedForward(\n",
              "        (feedforward): ModuleList(\n",
              "          (0): Linear(in_features=512, out_features=64, bias=True)\n",
              "          (1): ReLU()\n",
              "          (2): Dropout(p=0.1, inplace=False)\n",
              "          (3): Linear(in_features=64, out_features=512, bias=True)\n",
              "          (4): Identity()\n",
              "        )\n",
              "        (final_activation_function): Identity()\n",
              "      )\n",
              "      (second_norm): LayerNorm((512,), eps=1e-05, elementwise_affine=True)\n",
              "      (dropout_layer): Dropout(p=0.1, inplace=False)\n",
              "    )\n",
              "  )\n",
              "  (flatten): Flatten()\n",
              "  (compressor): Linear(in_features=45568, out_features=64, bias=True)\n",
              "  (activation): GELU(approximate='none')\n",
              "  (feedfoward): FeedForward(\n",
              "    (feedforward): ModuleList(\n",
              "      (0): Linear(in_features=77, out_features=64, bias=True)\n",
              "      (1): GELU(approximate='none')\n",
              "      (2): Dropout(p=0.1, inplace=False)\n",
              "      (3): Linear(in_features=64, out_features=64, bias=True)\n",
              "      (4): GELU(approximate='none')\n",
              "      (5): Dropout(p=0.1, inplace=False)\n",
              "      (6): Linear(in_features=64, out_features=64, bias=True)\n",
              "      (7): GELU(approximate='none')\n",
              "      (8): Dropout(p=0.1, inplace=False)\n",
              "      (9): Linear(in_features=64, out_features=2, bias=True)\n",
              "      (10): Softmax(dim=1)\n",
              "    )\n",
              "    (final_activation_function): Softmax(dim=1)\n",
              "  )\n",
              ")"
            ]
          },
          "metadata": {},
          "execution_count": 49
        }
      ]
    },
    {
      "cell_type": "markdown",
      "source": [
        "Let's define the loader function:"
      ],
      "metadata": {
        "id": "fbkMFkpBfBt6"
      }
    },
    {
      "cell_type": "code",
      "source": [
        "def get_loader_from_dataset(X: np.ndarray, y: np.ndarray, batch_size: int) -> DataLoader:\n",
        "\n",
        "    \"\"\"\n",
        "    \n",
        "    Creates a DataLoader object from numpy arrays containing images and labels.\n",
        "\n",
        "    Args:\n",
        "        X (np.ndarray): numpy array containing the images.\n",
        "        y (np.ndarray): numpy array containing the labels.\n",
        "        batch_size (int): size of the batches to use in the DataLoader.\n",
        "\n",
        "    Returns:\n",
        "        DataLoader: the created DataLoader object.\n",
        "\n",
        "    \"\"\"\n",
        "\n",
        "    # lists to store the extracted features from each image\n",
        "    final_images: List[np.ndarray] = []\n",
        "    percentual_areas: List[np.ndarray] = []\n",
        "    dmaxs: List[np.ndarray] = []\n",
        "    dmins: List[np.ndarray] = []\n",
        "    num_objs: List[np.ndarray] = []\n",
        "\n",
        "    # extract features from each image and store them in the lists\n",
        "    for image in X:\n",
        "        final_image, percentual_area, dmax, dmin, num_obj = get_features(image)\n",
        "\n",
        "        final_images.append(final_image)\n",
        "        percentual_areas.append(percentual_area)\n",
        "        dmaxs.append(dmax)\n",
        "        dmins.append(dmin)\n",
        "        num_objs.append(num_obj)\n",
        "\n",
        "    # convert feature lists to numpy arrays and reshape them\n",
        "    final_images = np.array(final_images)\n",
        "    final_images = final_images.reshape(len(final_images), 1, 88, 64)\n",
        "\n",
        "    percentual_areas = np.array(percentual_areas)\n",
        "    percentual_areas = percentual_areas.reshape(len(percentual_areas), 1)\n",
        "\n",
        "    dmaxs = np.array(dmaxs)\n",
        "    dmaxs = dmaxs.reshape(len(dmaxs), 4)\n",
        "\n",
        "    dmins = np.array(dmins)\n",
        "    dmins = dmins.reshape(len(dmins), 4)\n",
        "\n",
        "    num_objs = np.array(num_objs)\n",
        "    num_objs = num_objs.reshape(len(num_objs), 4)\n",
        "\n",
        "    # convert numpy arrays to PyTorch tensors\n",
        "    final_images = torch.Tensor(final_images)\n",
        "    percentual_areas = torch.Tensor(percentual_areas)\n",
        "    dmaxs = torch.Tensor(dmaxs)\n",
        "    dmins = torch.Tensor(dmins)\n",
        "    num_objs = torch.Tensor(num_objs)\n",
        "    targets = torch.Tensor(y)\n",
        "\n",
        "    # create a TensorDataset object with the tensors and a DataLoader object with the dataset\n",
        "    data = TensorDataset(final_images, percentual_areas, dmaxs, dmins, num_objs, targets)\n",
        "    loader = DataLoader(data, batch_size=batch_size)\n",
        "\n",
        "    return loader\n"
      ],
      "metadata": {
        "id": "elcyGN8Kek0e"
      },
      "execution_count": null,
      "outputs": []
    },
    {
      "cell_type": "markdown",
      "source": [
        "Opening the test set:\n",
        "\n",
        "  - X_test : Numpy array with images of Test Set.\n",
        "  - y_test: Numpy array with labels of Test Set:\n",
        "\n",
        "    - If there is **no** substructure: [1,0]\n",
        "    - If there if substructure: [0,1]"
      ],
      "metadata": {
        "id": "XnfTFSHqf3rs"
      }
    },
    {
      "cell_type": "markdown",
      "source": [
        "Once the batch_size is len(y_test) implies that one batch is all test set:"
      ],
      "metadata": {
        "id": "FoJpeBuZgmNe"
      }
    },
    {
      "cell_type": "code",
      "source": [
        "test_loader = get_loader_from_dataset(X_test, y_test, batch_size = len(y_test))"
      ],
      "metadata": {
        "id": "NXGoRNTeTHOI"
      },
      "execution_count": null,
      "outputs": []
    },
    {
      "cell_type": "markdown",
      "source": [
        "Making the final evaluation:"
      ],
      "metadata": {
        "id": "J-9YNoF9gt7S"
      }
    },
    {
      "cell_type": "code",
      "source": [
        "# set model to evaluation mode\n",
        "model.eval()\n",
        "\n",
        "# turn off gradients for evaluation\n",
        "with torch.no_grad():\n",
        "\n",
        "    # loop over test data\n",
        "    for final_images, percentual_areas, dmaxs, dmins, num_objs, targets in test_loader:\n",
        "      \n",
        "        # move data to device\n",
        "        final_images, percentual_areas = final_images.to(device), percentual_areas.to(device)\n",
        "        dmaxs, dmins = dmaxs.to(device), dmins.to(device)\n",
        "        num_objs, targets = num_objs.to(device), targets.to(device)\n",
        "        \n",
        "        # forward pass\n",
        "        outputs = model(final_images, percentual_areas, dmaxs, dmins, num_objs, device)\n",
        "        \n",
        "        prob_preds = outputs.detach().cpu().numpy()\n",
        "        labels = targets.detach().cpu().numpy()\n",
        "\n",
        "        # Getting the ROC AUC Score\n",
        "        preds = [np.argmax(pred) for pred in prob_preds]\n",
        "        prob_preds = prob_preds[:,1]\n",
        "        labels = [np.argmax(label) for label in labels]\n",
        "        roc_auc = roc_auc_score(labels,preds)\n",
        "        print(f'ROC AUC:{roc_auc}')\n",
        "\n",
        "    \n",
        "        break"
      ],
      "metadata": {
        "colab": {
          "base_uri": "https://localhost:8080/"
        },
        "id": "V2t9IOQOTMPJ",
        "outputId": "ada6393d-3f96-4879-d62c-39c9eddf68c9"
      },
      "execution_count": null,
      "outputs": [
        {
          "output_type": "stream",
          "name": "stdout",
          "text": [
            "ROC AUC:0.9562378210540216\n"
          ]
        }
      ]
    },
    {
      "cell_type": "markdown",
      "source": [
        "\n",
        "Wow, this result is expressive!! **ROC-AUC = 0.956**!! Let's see the other graphs:"
      ],
      "metadata": {
        "id": "dOtWEV55hF8A"
      }
    },
    {
      "cell_type": "code",
      "source": [
        "from sklearn import metrics\n",
        "false_positive_rate, true_positive_rate, thresholds = metrics.roc_curve(labels, prob_preds)"
      ],
      "metadata": {
        "id": "qGT7l2h-joAS"
      },
      "execution_count": null,
      "outputs": []
    },
    {
      "cell_type": "code",
      "source": [
        "plt.title('Receiver Operating Characteristic - ROC Curve')\n",
        "plt.plot(false_positive_rate, true_positive_rate,label=f'ViT for Small Dataset with\\nSubstructure Features (ROC-AUC = {roc_auc:0.3})\\n')\n",
        "plt.plot([0, 1], ls=\"--\",label='Random Guessing')\n",
        "plt.plot([0, 0], [1, 0] , c=\".7\"), plt.plot([1, 1] , c=\".7\",label='Perfect Model')\n",
        "plt.ylabel('True Positive Rate')\n",
        "plt.xlabel('False Positive Rate')\n",
        "plt.legend()\n",
        "plt.show()"
      ],
      "metadata": {
        "colab": {
          "base_uri": "https://localhost:8080/",
          "height": 472
        },
        "id": "vtuHv2UPkEQF",
        "outputId": "0afcf84b-7a86-428a-8007-3cc144da64c1"
      },
      "execution_count": null,
      "outputs": [
        {
          "output_type": "display_data",
          "data": {
            "text/plain": [
              "<Figure size 640x480 with 1 Axes>"
            ],
            "image/png": "[encoded data removed]"
          },
          "metadata": {}
        }
      ]
    },
    {
      "cell_type": "markdown",
      "source": [
        "These results are impressive and show the power of combining classical features (inspired by physical meaning), Machine Learning and Metaheuristic Optimization.\n",
        "\n",
        "With that, we finish our modeling. Thank you!!"
      ],
      "metadata": {
        "id": "zxkKfEMR2yWA"
      }
    }
  ]
}