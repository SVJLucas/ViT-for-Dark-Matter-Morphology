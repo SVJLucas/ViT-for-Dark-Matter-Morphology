{
  "nbformat": 4,
  "nbformat_minor": 0,
  "metadata": {
    "colab": {
      "provenance": []
    },
    "kernelspec": {
      "name": "python3",
      "display_name": "Python 3"
    },
    "language_info": {
      "name": "python"
    }
  },
  "cells": [
    {
      "cell_type": "markdown",
      "source": [
        "# Dataset Split\n",
        "\n",
        "Since we think about extracting features from images in addition to the images themselves, we will separate the data as follows:\n",
        "\n",
        "* 10% will correspond to test data, which will not be accessed by the model in training, only during the test phase.\n",
        "\n",
        "The remaining 90% of the data will be divided into:\n",
        "\n",
        "* Training Phase - 50% of the remaining data (45% of the total data) will correspond to the training data, which will be used to train the different models.\n",
        "\n",
        "* Validation Phase - 25% of the remaining data (22.5% of the total data) for validation and comparison of the different models so that we can choose one for the optimization phase.\n",
        "\n",
        "* Optimization Phase - 25% of the remaining data (22.5% of the total data) for Baysian Optimization. We will use this data to choose the hyperparameters of the best model obtained during validation phase.\n",
        "\n",
        "This division of the training data allows an unbiased evaluation of the different models during the transformer construction stages."
      ],
      "metadata": {
        "id": "QK-F8iRbwy7U"
      }
    },
    {
      "cell_type": "markdown",
      "source": [
        "# Importing libraries"
      ],
      "metadata": {
        "id": "MPjlTvIn4gm_"
      }
    },
    {
      "cell_type": "code",
      "execution_count": null,
      "metadata": {
        "id": "WEPjL_T7vyYF"
      },
      "outputs": [],
      "source": [
        "import os\n",
        "import cv2\n",
        "import glob\n",
        "import numpy as np\n",
        "import matplotlib.pyplot as plt\n",
        "from sklearn.model_selection import train_test_split"
      ]
    },
    {
      "cell_type": "markdown",
      "source": [
        "# Downloading the Dataset"
      ],
      "metadata": {
        "id": "cmx9_YSBbG6H"
      }
    },
    {
      "cell_type": "markdown",
      "source": [
        "Considering we are in **ViT-for-Dark-Matter-Morphology/src/notebooks** directory, we can do:"
      ],
      "metadata": {
        "id": "CWYtMGoN9Ksr"
      }
    },
    {
      "cell_type": "code",
      "source": [
        "images_path = os.path.join('..','..','data','original','lenses.tgz')"
      ],
      "metadata": {
        "id": "4i7yq4dx-sxr"
      },
      "execution_count": null,
      "outputs": []
    },
    {
      "cell_type": "code",
      "source": [
        "!tar -xvzf  {images_path}"
      ],
      "metadata": {
        "id": "p9wx_IKjpOb-"
      },
      "execution_count": null,
      "outputs": []
    },
    {
      "cell_type": "markdown",
      "source": [
        "# Open the data"
      ],
      "metadata": {
        "id": "0LiAI4piqbQW"
      }
    },
    {
      "cell_type": "markdown",
      "source": [
        "Let's declare the path to the data files:"
      ],
      "metadata": {
        "id": "iRB680zLrKgF"
      }
    },
    {
      "cell_type": "code",
      "source": [
        "sub_path = \"/sub\"\n",
        "no_sub_path = \"/no_sub\""
      ],
      "metadata": {
        "id": "rGWc0JpEqXgC"
      },
      "execution_count": null,
      "outputs": []
    },
    {
      "cell_type": "code",
      "source": [
        "sub_images = [cv2.imread(file) for file in glob.glob(sub_path + '/'+\"*.jpg\")]\n",
        "no_sub_images = [cv2.imread(file) for file in glob.glob(no_sub_path + '/'+\"*.jpg\")]"
      ],
      "metadata": {
        "id": "QYDGMPFEquUV"
      },
      "execution_count": null,
      "outputs": []
    },
    {
      "cell_type": "markdown",
      "source": [
        "Let's create the total dataset:"
      ],
      "metadata": {
        "id": "W8KHoNjWrD8C"
      }
    },
    {
      "cell_type": "code",
      "source": [
        "# Initializing empty lists for X and y\n",
        "X, y = [], []\n",
        "\n",
        "# Looping through the non-sub images\n",
        "for image in no_sub_images:\n",
        "    # Appending a numpy array of [1,0] to y for each non-sub image\n",
        "    y.append(np.array([1,0]))\n",
        "\n",
        "# Looping through the sub images\n",
        "for image in sub_images:\n",
        "    # Appending a numpy array of [0,1] to y for each sub image\n",
        "    y.append(np.array([0,1]))\n",
        "\n",
        "# Converting y to a numpy array and casting it to float32\n",
        "y = np.array(y)\n",
        "y = y.astype(np.float32)\n",
        "\n",
        "# Concatenating sub_images and no_sub_images into a single numpy array for X\n",
        "X = np.array([*no_sub_images,*sub_images])\n",
        "\n",
        "# Dividing the values of X by 255 to normalize the pixel values between 0 and 1\n",
        "X = X[:,:,:,0]/255"
      ],
      "metadata": {
        "id": "tOy3PZokq8Al"
      },
      "execution_count": null,
      "outputs": []
    },
    {
      "cell_type": "markdown",
      "source": [
        "Let's visualize the first image to see if the opening process was correct:"
      ],
      "metadata": {
        "id": "V8omVP6ms-Qk"
      }
    },
    {
      "cell_type": "code",
      "source": [
        "label = np.argmax(y[0])\n",
        "label = 'Sub' if label else \"Non Sub\"\n",
        "plt.title(f'Label = {label}')\n",
        "plt.imshow(X[0],cmap='gray')\n",
        "plt.show()"
      ],
      "metadata": {
        "colab": {
          "base_uri": "https://localhost:8080/",
          "height": 452
        },
        "id": "7jAjYllCtDgT",
        "outputId": "a1fa5519-c4a9-4661-82a0-e063d61e022e"
      },
      "execution_count": null,
      "outputs": [
        {
          "output_type": "display_data",
          "data": {
            "text/plain": [
              "<Figure size 640x480 with 1 Axes>"
            ],
            "image/png": "[encoded data removed]"
          },
          "metadata": {}
        }
      ]
    },
    {
      "cell_type": "markdown",
      "source": [
        "# Splitting the Data"
      ],
      "metadata": {
        "id": "_eHZYy7ns062"
      }
    },
    {
      "cell_type": "markdown",
      "source": [
        "Shuffle the data:"
      ],
      "metadata": {
        "id": "4o1xqpYgvoml"
      }
    },
    {
      "cell_type": "code",
      "source": [
        "X_total_training, X_test, y_total_training, y_test = train_test_split(X, y, test_size=0.10, shuffle=True, random_state=2023)"
      ],
      "metadata": {
        "id": "ImI47zmpvrjC"
      },
      "execution_count": null,
      "outputs": []
    },
    {
      "cell_type": "markdown",
      "source": [
        "Using the previous rules:"
      ],
      "metadata": {
        "id": "LHBGVhX6vUQw"
      }
    },
    {
      "cell_type": "code",
      "source": [
        "# Calculating the total number of samples in the total training set\n",
        "total_training_samples = len(X_total_training)\n",
        "\n",
        "# Selecting the first 50% of the samples in the total training set for training\n",
        "X_train = X_total_training[ : int(0.5*total_training_samples) ]\n",
        "y_train = y_total_training[ : int(0.5*total_training_samples) ]\n",
        "\n",
        "# Selecting the next 25% of the samples in the total training set for validation\n",
        "X_valid = X_total_training[ int(0.5*total_training_samples): int(0.75*total_training_samples) ]\n",
        "y_valid = y_total_training[ int(0.5*total_training_samples): int(0.75*total_training_samples) ]\n",
        "\n",
        "# Selecting the remaining 25% of the samples in the total training set for optimization\n",
        "X_opt = X_total_training[ int(0.75*total_training_samples): ]\n",
        "y_opt = y_total_training[ int(0.75*total_training_samples):  ]"
      ],
      "metadata": {
        "id": "8PFRxMSsq_uK"
      },
      "execution_count": null,
      "outputs": []
    },
    {
      "cell_type": "markdown",
      "source": [
        "# Saving the data"
      ],
      "metadata": {
        "id": "4kXcall7yZQY"
      }
    },
    {
      "cell_type": "code",
      "source": [
        "X_file_names = {'X_train.npy': X_train ,'X_valid.npy': X_valid,'X_opt.npy': X_opt,'X_test.npy': X_test}\n",
        "y_file_names = {'y_train.npy': y_train ,'y_valid.npy': y_valid,'y_opt.npy': y_opt,'y_test.npy': y_test}\n",
        "\n",
        "X_folder = os.path.join('..','..','data','splitted','images')\n",
        "y_folder = os.path.join('..','..','data','splitted','labels')\n",
        "\n",
        "for file_name, data in X_file_names.items():\n",
        "  with open(os.path.join(X_folder,file_name), 'wb') as f:\n",
        "      np.savez_compressed(f, data=data)\n",
        "\n",
        "for file_name, label in y_file_names.items():\n",
        "  with open(os.path.join(y_folder,file_name), 'wb') as f:\n",
        "      np.savez_compressed(f, label=label)"
      ],
      "metadata": {
        "id": "QCpckOx9ySXL"
      },
      "execution_count": null,
      "outputs": []
    }
  ]
}